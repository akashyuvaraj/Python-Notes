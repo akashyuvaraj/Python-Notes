{
 "cells": [
  {
   "cell_type": "code",
   "execution_count": 5,
   "id": "8a9333e5",
   "metadata": {},
   "outputs": [
    {
     "name": "stdout",
     "output_type": "stream",
     "text": [
      "hello\n",
      "good morning\n"
     ]
    }
   ],
   "source": [
    "#Functions\n",
    "def hi():\n",
    "    print('hello')\n",
    "    print('good morning')\n",
    "hi()"
   ]
  },
  {
   "cell_type": "code",
   "execution_count": 1,
   "id": "59359e19",
   "metadata": {},
   "outputs": [
    {
     "name": "stdout",
     "output_type": "stream",
     "text": [
      "enter the number 1:9\n",
      "enter the number 2:8\n",
      "17\n",
      "None\n"
     ]
    }
   ],
   "source": [
    "#void- it returns empty\n",
    "def add():\n",
    "    a=int(input('enter the number 1:'))\n",
    "    b=int(input('enter the number 2:'))\n",
    "    print(a+b)\n",
    "print(add())"
   ]
  },
  {
   "cell_type": "code",
   "execution_count": 2,
   "id": "b52f463a",
   "metadata": {},
   "outputs": [
    {
     "name": "stdout",
     "output_type": "stream",
     "text": [
      "enter the number 1:7\n",
      "enter the number 2:8\n",
      "15\n"
     ]
    }
   ],
   "source": [
    "#Non void- it retrurns the value to where it is called\n",
    "def add():\n",
    "    a=int(input('enter the number 1:'))\n",
    "    b=int(input('enter the number 2:'))\n",
    "    return a+b\n",
    "print(add())\n",
    "\n",
    "\n",
    "\n",
    "\n",
    "#basically return gives a value to the caller\n",
    "#  as soon as functions encounters return it moves to the caller that is it will be exited from function \n",
    "# and no other statemnts will be executed after that return statement "
   ]
  },
  {
   "cell_type": "code",
   "execution_count": 10,
   "id": "847231ad",
   "metadata": {},
   "outputs": [
    {
     "name": "stdout",
     "output_type": "stream",
     "text": [
      "hello jack\n",
      "how are you\n"
     ]
    }
   ],
   "source": [
    "#Passing arguements : if we created a arguement while defining a function we need to give values while calling otherwise it will throw error\n",
    "\n",
    "def greet(name):#The arguement which your giving is formal arguemnet \n",
    "    print('hello',name)\n",
    "    print('how are you')\n",
    "greet('jack') #The arguement here which we are passing is actual arguemnt "
   ]
  },
  {
   "cell_type": "code",
   "execution_count": 17,
   "id": "fc81700e",
   "metadata": {},
   "outputs": [
    {
     "name": "stdout",
     "output_type": "stream",
     "text": [
      "14\n",
      "7\n"
     ]
    }
   ],
   "source": [
    "#Passing multiple arguements\n",
    "def add(a,b):\n",
    "    print(a+b)\n",
    "a=5\n",
    "b=9\n",
    "add(a,b)\n",
    "add(7,0)"
   ]
  },
  {
   "cell_type": "code",
   "execution_count": 3,
   "id": "098ba1e7",
   "metadata": {},
   "outputs": [
    {
     "name": "stdout",
     "output_type": "stream",
     "text": [
      "17\n",
      "None\n"
     ]
    }
   ],
   "source": [
    "def add(a,b):\n",
    "    sum=a+b\n",
    "    print(sum)\n",
    "a=9\n",
    "b=8\n",
    "#internally passing value it becomes none\n",
    "print(add(a,b))"
   ]
  },
  {
   "cell_type": "code",
   "execution_count": null,
   "id": "aa3b1bbd",
   "metadata": {},
   "outputs": [],
   "source": [
    "#############################################################################################################\n",
    "############################################################################################################"
   ]
  },
  {
   "cell_type": "code",
   "execution_count": 1,
   "id": "efd35110",
   "metadata": {},
   "outputs": [
    {
     "name": "stdout",
     "output_type": "stream",
     "text": [
      "13\n"
     ]
    }
   ],
   "source": [
    "#There are four types of arguement\n",
    "#1.position arguement\n",
    "def add(a,b):\n",
    "    print(a+b)\n",
    "    \n",
    "add(6,7)\n"
   ]
  },
  {
   "cell_type": "code",
   "execution_count": 4,
   "id": "ca04a18e",
   "metadata": {},
   "outputs": [
    {
     "name": "stdout",
     "output_type": "stream",
     "text": [
      "11\n",
      "10\n",
      "akash\n",
      "24\n"
     ]
    }
   ],
   "source": [
    "#2.default arguemnt\n",
    "def add(a=3,b=8):\n",
    "    print(a)\n",
    "    print(b)\n",
    "add(11,10) # These arguement is first preference if not then it will take values from formal arguement that is default arguement\n",
    "\n",
    "#alwauys default arguement comes last non default arguemnt should come first \n",
    "\n",
    "\n",
    "\n",
    "\n",
    "def biodata(name,age=24):\n",
    "    print(name)\n",
    "    print(age)\n",
    "biodata('akash')"
   ]
  },
  {
   "cell_type": "code",
   "execution_count": 2,
   "id": "1901cf5a",
   "metadata": {},
   "outputs": [
    {
     "name": "stdout",
     "output_type": "stream",
     "text": [
      "200\n",
      "100\n"
     ]
    }
   ],
   "source": [
    "#3.Keyword arguement\n",
    "def add(a=3,b=8):\n",
    "    print(a)\n",
    "    print(b)\n",
    "add(b=100,a=200)\n",
    "\n",
    "\n",
    "\n",
    "\n",
    "#always postional arguement follows keyword arguement "
   ]
  },
  {
   "cell_type": "code",
   "execution_count": 4,
   "id": "728463f6",
   "metadata": {},
   "outputs": [
    {
     "name": "stdout",
     "output_type": "stream",
     "text": [
      "1\n",
      "(2, 3, 4, 5, 6, 7, 8)\n"
     ]
    }
   ],
   "source": [
    "#4.variable length arguement\n",
    "def add(a,*b): # remaining values store as tuple in *b\n",
    "    print(a)\n",
    "    print(b)\n",
    "add(1,2,3,4,5,6,7,8)\n"
   ]
  },
  {
   "cell_type": "code",
   "execution_count": null,
   "id": "43de9e59",
   "metadata": {},
   "outputs": [],
   "source": [
    "###########################################################################################################\n",
    "###############################################################################################################"
   ]
  },
  {
   "cell_type": "code",
   "execution_count": 4,
   "id": "5e1a6a3c",
   "metadata": {},
   "outputs": [
    {
     "name": "stdout",
     "output_type": "stream",
     "text": [
      "{'name': 'akash', 'age': 23, 'work': 'cts'}\n",
      "python\n"
     ]
    }
   ],
   "source": [
    "#Keyword variable length arguement\n",
    "def biodata(subject,**person):\n",
    "    print(person)\n",
    "    print(subject)\n",
    "biodata('python',name='akash',age=23,work=\"cts\")\n",
    "\n",
    "\n",
    "\n",
    "\n",
    "#if we are using *wrags and **kwargs at a time *wargs should come first in formal parameter "
   ]
  },
  {
   "cell_type": "code",
   "execution_count": null,
   "id": "b46e75f5",
   "metadata": {},
   "outputs": [],
   "source": [
    "########################################################################################################\n",
    "#################################################################################################################"
   ]
  },
  {
   "cell_type": "code",
   "execution_count": 1,
   "id": "33cea2ff",
   "metadata": {},
   "outputs": [
    {
     "name": "stdout",
     "output_type": "stream",
     "text": [
      "4\n",
      "4\n"
     ]
    }
   ],
   "source": [
    "#passing a list\n",
    "\n",
    "def passing_list(lst):\n",
    "    even = 0\n",
    "    odd = 0\n",
    "    for i in lst:\n",
    "        if i%2==0:\n",
    "            even+=1\n",
    "\n",
    "        else:\n",
    "\n",
    "            odd+= 1\n",
    "          \n",
    "    print(even)\n",
    "    print(odd)\n",
    "\n",
    "\n",
    "\n",
    "a=[1,2,3,4,5,6,7,8]\n",
    "passing_list(a)\n",
    "\n"
   ]
  },
  {
   "cell_type": "code",
   "execution_count": 3,
   "id": "2c0fe6cc",
   "metadata": {},
   "outputs": [
    {
     "name": "stdout",
     "output_type": "stream",
     "text": [
      "enter the number5\n",
      "0\n",
      "1\n",
      "1\n",
      "2\n",
      "3\n"
     ]
    }
   ],
   "source": [
    "#fibonacci series 0 1 1 2 3 5\n",
    "\n",
    "\n",
    "def fibo(x):\n",
    "    a=0\n",
    "    b=1\n",
    "    print(a)\n",
    "    print(b)\n",
    "    for x in range(2,x):\n",
    "        c=a+b\n",
    "        a=b  #here we are shifting the values \n",
    "        b=c\n",
    "        print(c)\n",
    "    \n",
    "    \n",
    "\n",
    "    \n",
    "    \n",
    "fibo(int(input('enter the number')))"
   ]
  },
  {
   "cell_type": "code",
   "execution_count": 4,
   "id": "61a966ba",
   "metadata": {},
   "outputs": [
    {
     "name": "stdout",
     "output_type": "stream",
     "text": [
      "120\n"
     ]
    }
   ],
   "source": [
    "# factorial number 5! 1x2x3x4x5\n",
    "\n",
    "def facto(x):\n",
    "    factorial = 1\n",
    "    for x in range(1, x + 1):\n",
    "        factorial *= x\n",
    "    print(factorial)\n",
    "\n",
    "\n",
    "facto(5)"
   ]
  },
  {
   "cell_type": "code",
   "execution_count": 6,
   "id": "49b70dc8",
   "metadata": {},
   "outputs": [
    {
     "name": "stdout",
     "output_type": "stream",
     "text": [
      "10\n",
      "100\n"
     ]
    }
   ],
   "source": [
    "#global variable\n",
    "\n",
    "a=10 \n",
    "\n",
    "def add ():\n",
    "    \n",
    "    global b \n",
    "    b=100\n",
    "    print(a)\n",
    "add()\n",
    "print(b) # here it will serach any variable b there outside or not if not then it will take from local scope which \n",
    "         # converted to global variable and it will automatically form one variable b outside scope\n",
    "         # we can access gobal variable  but if we want to change value we  need to use global keyword for that particular variable"
   ]
  },
  {
   "cell_type": "code",
   "execution_count": 2,
   "id": "bda8af03",
   "metadata": {},
   "outputs": [
    {
     "name": "stdout",
     "output_type": "stream",
     "text": [
      "9\n"
     ]
    }
   ],
   "source": [
    "#nested function \n",
    "a=10\n",
    "\n",
    "def display():\n",
    "    a=9 #these is local variable for show function if that is commented then it will see outside display function\n",
    "    def show():\n",
    "        print(a)\n",
    "    show()\n",
    "display()"
   ]
  },
  {
   "cell_type": "code",
   "execution_count": null,
   "id": "6d569a17",
   "metadata": {},
   "outputs": [],
   "source": [
    "\n",
    "a=10\n",
    "\n",
    "def display():\n",
    "    a=9\n",
    "    b=2\n",
    "    def show():\n",
    "        print(a)\n",
    "        def win():\n",
    "            print(b)\n",
    "        win()\n",
    "\n",
    "\n",
    "\n",
    "    show()\n",
    "display()\n",
    "\n",
    "\n"
   ]
  },
  {
   "cell_type": "code",
   "execution_count": 5,
   "id": "7cc576e5",
   "metadata": {},
   "outputs": [
    {
     "name": "stdout",
     "output_type": "stream",
     "text": [
      "10\n"
     ]
    }
   ],
   "source": [
    "#if no vaiable values in function like first it will search in local scope and then it will search in global that is outside the the function\n",
    "\n",
    "a=10 # global\n",
    "\n",
    "def add():\n",
    "    print(a) #not in local scope so it is taking value from globa scope\n",
    "add()\n",
    "#but we cant use local varibale outside function"
   ]
  },
  {
   "cell_type": "code",
   "execution_count": null,
   "id": "3bfbe493",
   "metadata": {},
   "outputs": [],
   "source": [
    "a=10\n",
    "def outter():\n",
    "    a=2\n",
    "    print(globals()['a'])\n",
    "outter()\n"
   ]
  },
  {
   "cell_type": "code",
   "execution_count": null,
   "id": "18261311",
   "metadata": {},
   "outputs": [],
   "source": [
    "###########################################################################################################################\n",
    "##########################################################################################################################"
   ]
  },
  {
   "cell_type": "code",
   "execution_count": 5,
   "id": "8865375a",
   "metadata": {},
   "outputs": [
    {
     "name": "stdout",
     "output_type": "stream",
     "text": [
      "inner :20\n",
      "outer:20\n"
     ]
    }
   ],
   "source": [
    "#Non local variable - used in nested function,basically to change values of outer function local variable inside the inner function\n",
    "\n",
    "def outer():\n",
    "    a=10\n",
    "    \n",
    "    def inner():\n",
    "        nonlocal a\n",
    "        a=20\n",
    "        print(f'inner :{a}')\n",
    "    inner()\n",
    "    print(f'outer:{a}')\n",
    "outer()"
   ]
  },
  {
   "cell_type": "code",
   "execution_count": 7,
   "id": "d5ded660",
   "metadata": {},
   "outputs": [
    {
     "name": "stdout",
     "output_type": "stream",
     "text": [
      "30\n"
     ]
    }
   ],
   "source": [
    "#closure function is even though if function is deleted it keeps copy of the variable of outer function\n",
    "#mainly it returns \n",
    "#inner function having access to outer function\n",
    "\n",
    "def outer ():\n",
    "    a=10\n",
    "    def inner():\n",
    "        b=20\n",
    "        print(a+b)\n",
    "    return inner\n",
    "ans=outer()\n",
    "ans()"
   ]
  },
  {
   "cell_type": "code",
   "execution_count": null,
   "id": "c1acc460",
   "metadata": {},
   "outputs": [],
   "source": [
    "##################################################################"
   ]
  },
  {
   "cell_type": "code",
   "execution_count": 1,
   "id": "5fd903d3",
   "metadata": {},
   "outputs": [
    {
     "name": "stdout",
     "output_type": "stream",
     "text": [
      "120\n"
     ]
    }
   ],
   "source": [
    "#Recursion - calling a function inside a function\n",
    "\n",
    "\n",
    "def factorial(n):\n",
    "    if n==0 or n==1:\n",
    "        return 1\n",
    "    else:\n",
    "        return n * factorial (n-1)\n",
    "print(factorial (5))"
   ]
  },
  {
   "cell_type": "code",
   "execution_count": null,
   "id": "393d4a1f",
   "metadata": {},
   "outputs": [],
   "source": [
    "##########################################################################"
   ]
  },
  {
   "cell_type": "code",
   "execution_count": 13,
   "id": "020d5bbb",
   "metadata": {},
   "outputs": [
    {
     "name": "stdout",
     "output_type": "stream",
     "text": [
      "hello world\n"
     ]
    }
   ],
   "source": [
    "#lambda function\n",
    "#lambda arguement :expression\n",
    "#it is annoymous function and it takes many arguements but one expression only we can give\n",
    "\n",
    "message = lambda : print('hello world')\n",
    "message()\n",
    "\n",
    "\n"
   ]
  },
  {
   "cell_type": "code",
   "execution_count": 17,
   "id": "c35d8d27",
   "metadata": {},
   "outputs": [
    {
     "name": "stdout",
     "output_type": "stream",
     "text": [
      "15\n",
      "20\n"
     ]
    }
   ],
   "source": [
    "\n",
    "add=lambda a: a+10  #return a\n",
    "print(add(5))\n",
    "\n",
    "\n",
    "trail = lambda x=10:lambda y:x+y\n",
    "a=trail()\n",
    "print(a(10))"
   ]
  }
 ],
 "metadata": {
  "kernelspec": {
   "display_name": "Python 3 (ipykernel)",
   "language": "python",
   "name": "python3"
  },
  "language_info": {
   "codemirror_mode": {
    "name": "ipython",
    "version": 3
   },
   "file_extension": ".py",
   "mimetype": "text/x-python",
   "name": "python",
   "nbconvert_exporter": "python",
   "pygments_lexer": "ipython3",
   "version": "3.9.12"
  }
 },
 "nbformat": 4,
 "nbformat_minor": 5
}
