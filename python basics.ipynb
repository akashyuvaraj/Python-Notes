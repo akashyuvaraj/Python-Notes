{
 "cells": [
  {
   "cell_type": "code",
   "execution_count": 1,
   "id": "a6e20318",
   "metadata": {},
   "outputs": [
    {
     "name": "stdout",
     "output_type": "stream",
     "text": [
      "10\n",
      "akash is \"good\" boy\n",
      "akash is 'bad' boy\n"
     ]
    }
   ],
   "source": [
    "#Print function\n",
    "print(10)\n",
    "\n",
    "print('akash is \"good\" boy')\n",
    "\n",
    "print(\"akash is 'bad' boy\")"
   ]
  },
  {
   "cell_type": "code",
   "execution_count": 1,
   "id": "b9e2fb5d",
   "metadata": {},
   "outputs": [
    {
     "name": "stdout",
     "output_type": "stream",
     "text": [
      "happy learning\n",
      "happy_learning\n",
      "happy + learning\n",
      "happylearning\n"
     ]
    }
   ],
   "source": [
    "# Expected o/p :\n",
    "# happy learning\n",
    "# happy_learning\n",
    "# happy + learning\n",
    "# happylearning\n",
    "print(\"happy\",\"learning\") \n",
    "print(\"happy\",\"learning\",sep=\"_\")\n",
    "print(\"happy\",\"learning\",sep=\" + \")\n",
    "print(\"happy\",\"learning\",sep=\"\")"
   ]
  },
  {
   "cell_type": "code",
   "execution_count": 2,
   "id": "254655d8",
   "metadata": {},
   "outputs": [
    {
     "name": "stdout",
     "output_type": "stream",
     "text": [
      "welcome to GURUKULA."
     ]
    }
   ],
   "source": [
    "# Expected o/p:\n",
    "\n",
    "# use three print statement to get out output welcome to gurukula in a single line.\n",
    "print(\"welcome\",end=\" \")\n",
    "print(\"to\",end=\" \")\n",
    "print(\"GURUKULA\",end=\".\")\n",
    "\n"
   ]
  },
  {
   "cell_type": "code",
   "execution_count": 1,
   "id": "cf893e8d",
   "metadata": {},
   "outputs": [
    {
     "name": "stdout",
     "output_type": "stream",
     "text": [
      "english is my 'favourite'subject\n",
      "akash \\new   car \\xuv\n",
      "tamil is \"oldest\" language\n",
      "hello \n",
      "world\n",
      "python\t is\t good\n",
      "hello\\world\n"
     ]
    }
   ],
   "source": [
    "#Escape sequence\n",
    "print('english is my \\'favourite\\'subject')\n",
    "\n",
    "a=('akash \\\\new   car \\\\xuv')\n",
    "print(a)\n",
    "\n",
    "print(\"tamil is \\\"oldest\\\" language\")\n",
    "\n",
    "print('hello \\nworld')                                 #\\n - newline\n",
    "\n",
    "print('python\\t is\\t good')                             #\\t- horizontal tab space\n",
    "\n",
    "print('hello\\\\world')                                  #\\\\ - to get a back slash \n"
   ]
  },
  {
   "cell_type": "code",
   "execution_count": 16,
   "id": "bf1e6be9",
   "metadata": {},
   "outputs": [
    {
     "name": "stdout",
     "output_type": "stream",
     "text": [
      "C:\\new\\temp\\text.doc\n"
     ]
    }
   ],
   "source": [
    "#Printing a raw string\n",
    "print(r\"C:\\new\\temp\\text.doc\")   "
   ]
  },
  {
   "cell_type": "code",
   "execution_count": null,
   "id": "48d57093",
   "metadata": {},
   "outputs": [],
   "source": [
    "#Datatypes \n",
    "#string\n",
    "#int\n",
    "#float\n",
    "#Boolean\n"
   ]
  },
  {
   "cell_type": "code",
   "execution_count": 3,
   "id": "97ba9af5",
   "metadata": {},
   "outputs": [
    {
     "name": "stdout",
     "output_type": "stream",
     "text": [
      "<class 'str'>\n",
      "<class 'bool'>\n",
      "<class 'int'>\n",
      "<class 'float'>\n"
     ]
    }
   ],
   "source": [
    "#Type casting\n",
    "a='string'\n",
    "b=True\n",
    "c=9\n",
    "d=7.9\n",
    "print(type(a))\n",
    "print(type(b))\n",
    "print(type(c))\n",
    "print(type(d))"
   ]
  },
  {
   "cell_type": "code",
   "execution_count": 4,
   "id": "b8103df9",
   "metadata": {},
   "outputs": [
    {
     "name": "stdout",
     "output_type": "stream",
     "text": [
      "string1\n"
     ]
    }
   ],
   "source": [
    "#Two strings can concatenate \n",
    "a='string'\n",
    "b='1'\n",
    "print(a+b)"
   ]
  },
  {
   "cell_type": "code",
   "execution_count": null,
   "id": "aad68f80",
   "metadata": {},
   "outputs": [],
   "source": [
    "#-single line comment\n",
    "#'''multiline comment  '''"
   ]
  },
  {
   "cell_type": "code",
   "execution_count": 6,
   "id": "015c1a54",
   "metadata": {},
   "outputs": [
    {
     "name": "stdout",
     "output_type": "stream",
     "text": [
      "akashakashakash\n"
     ]
    }
   ],
   "source": [
    "\n",
    "a='akash'\n",
    "print(a*3)"
   ]
  },
  {
   "cell_type": "code",
   "execution_count": 2,
   "id": "888cee85",
   "metadata": {},
   "outputs": [
    {
     "name": "stdout",
     "output_type": "stream",
     "text": [
      "enter a number:7\n",
      "7\n",
      "enter your name:akash\n",
      "my name is: akash\n",
      "enter a number8\n",
      "number is: 14\n"
     ]
    }
   ],
   "source": [
    "#input function- getting a input from user \n",
    "#defaultly what ever value  we are giving  it stores as string\n",
    "c=int(input('enter a number:'))\n",
    "print(c)\n",
    "\n",
    "a=input('enter your name:')\n",
    "print('my name is:',a)\n",
    "\n",
    "b=input('enter a number')\n",
    "print('number is:',int(b)+6)"
   ]
  },
  {
   "cell_type": "code",
   "execution_count": 3,
   "id": "8ed46bab",
   "metadata": {},
   "outputs": [
    {
     "name": "stdout",
     "output_type": "stream",
     "text": [
      "True\n",
      "True\n"
     ]
    }
   ],
   "source": [
    "#all- everything should be True, 1 ,number\n",
    "a=[1,2,3]\n",
    "print(all(a))\n",
    "\n",
    "#any- anyone must be True\n",
    "a=[1,0]\n",
    "print(any(a))"
   ]
  },
  {
   "cell_type": "code",
   "execution_count": 5,
   "id": "eff0bbdc",
   "metadata": {},
   "outputs": [
    {
     "ename": "SyntaxError",
     "evalue": "Missing parentheses in call to 'print'. Did you mean print(hi)? (<string>, line 1)",
     "output_type": "error",
     "traceback": [
      "Traceback \u001b[1;36m(most recent call last)\u001b[0m:\n",
      "  File \u001b[0;32mC:\\ProgramData\\Anaconda3\\lib\\site-packages\\IPython\\core\\interactiveshell.py:3369\u001b[0m in \u001b[0;35mrun_code\u001b[0m\n    exec(code_obj, self.user_global_ns, self.user_ns)\n",
      "\u001b[1;36m  Input \u001b[1;32mIn [5]\u001b[1;36m in \u001b[1;35m<cell line: 1>\u001b[1;36m\u001b[0m\n\u001b[1;33m    eval('print hi')\u001b[0m\n",
      "\u001b[1;36m  File \u001b[1;32m<string>:1\u001b[1;36m\u001b[0m\n\u001b[1;33m    print hi\u001b[0m\n\u001b[1;37m          ^\u001b[0m\n\u001b[1;31mSyntaxError\u001b[0m\u001b[1;31m:\u001b[0m Missing parentheses in call to 'print'. Did you mean print(hi)?\n"
     ]
    }
   ],
   "source": [
    "eval('print hi')"
   ]
  }
 ],
 "metadata": {
  "kernelspec": {
   "display_name": "Python 3 (ipykernel)",
   "language": "python",
   "name": "python3"
  },
  "language_info": {
   "codemirror_mode": {
    "name": "ipython",
    "version": 3
   },
   "file_extension": ".py",
   "mimetype": "text/x-python",
   "name": "python",
   "nbconvert_exporter": "python",
   "pygments_lexer": "ipython3",
   "version": "3.9.12"
  }
 },
 "nbformat": 4,
 "nbformat_minor": 5
}
