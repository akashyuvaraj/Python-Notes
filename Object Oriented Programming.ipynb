{
 "cells": [
  {
   "cell_type": "code",
   "execution_count": 3,
   "id": "e8723b90",
   "metadata": {},
   "outputs": [
    {
     "name": "stdout",
     "output_type": "stream",
     "text": [
      "Student1 name? akash\n",
      "Student1 college_timing 13\n",
      "{'name': 'vignesh', 'age': [22], 'subject': {'java'}}\n"
     ]
    }
   ],
   "source": [
    "#Object oriented programming\n",
    "#Creating a Class\n",
    "\n",
    "class College():\n",
    "#creating class variable \n",
    "#instances can access class variable but cannot change it,but we can change outside \n",
    "    college_timing=12\n",
    "    pass\n",
    "\n",
    "#creating object or instances of the class\n",
    "Student1=College()\n",
    "Student2=College()\n",
    "\n",
    "#creating object variable\n",
    "Student1.name='akash'\n",
    "Student1.age=[23]\n",
    "Student1.subject={'python'}\n",
    "Student1.college_timing=13\n",
    "\n",
    "Student2.name='vignesh'\n",
    "Student2.age=[22]\n",
    "Student2.subject={'java'}\n",
    "\n",
    "\n",
    "print('Student1 name?',Student1.name)\n",
    "print('Student1 college_timing',Student1.college_timing)\n",
    "\n",
    "#dictionary of the particular object\n",
    "print(Student2.__dict__)\n",
    "\n",
    "\n"
   ]
  },
  {
   "cell_type": "code",
   "execution_count": null,
   "id": "f1aef181",
   "metadata": {},
   "outputs": [],
   "source": []
  },
  {
   "cell_type": "code",
   "execution_count": 3,
   "id": "0f6a77ef",
   "metadata": {},
   "outputs": [
    {
     "name": "stdout",
     "output_type": "stream",
     "text": [
      "hi these is  jacky\n",
      "hi these is  jacky\n",
      "vignesh [22] {'java'}\n",
      "12\n",
      "21\n",
      "10\n",
      "{'name': 'suresh', 'age': '21', 'subject': 'testing'}\n"
     ]
    }
   ],
   "source": [
    "class College():\n",
    "    college_timing=12\n",
    "    \n",
    "#Creating self\n",
    "    def creating_self(self):  #self takes object as parameter\n",
    "        print(self.name,self.age,self.subject)\n",
    "        \n",
    "#Creating a constructor\n",
    "#__init__ automatically it calls and stores the values\n",
    "    \n",
    "    def __init__(self,aname,aage,asubject): #first self refers to object then other variables are parameters\n",
    "        self.name=aname\n",
    "        self.age=aage\n",
    "        self.subject=asubject\n",
    "    \n",
    "#changing class variable using classmethod\n",
    "    @classmethod\n",
    "    def changing_time(cls,time):   #cls denotes object of the class  #instance can also change the class varible using class method\n",
    "        cls.college_timing=time\n",
    "        \n",
    "#Alternative constructor method\n",
    "    @classmethod\n",
    "    def splitter(cls,a):\n",
    "        storing=a.split(\"%\")\n",
    "        return(cls(storing[0],storing[1],storing[2]))\n",
    "    \n",
    "    @staticmethod\n",
    "    def printdetails(string):\n",
    "        print('hi these is ',string)\n",
    "    \n",
    "    pass\n",
    "Student1=College('akash',[23],{'python'})\n",
    "Student2=College('vignesh',[22],{'java'})\n",
    "Student3=College.splitter('suresh%21%testing')\n",
    "\n",
    "\n",
    "Student3.printdetails('jacky')\n",
    "College.printdetails('jacky')\n",
    "\n",
    "#calling the function and the function should run behind the object\n",
    "Student2.creating_self()\n",
    "\n",
    "\n",
    "print(Student2.college_timing)\n",
    "\n",
    "print(Student3.age)\n",
    "\n",
    "\n",
    "#calling function\n",
    "Student2.changing_time(10)\n",
    "\n",
    "\n",
    "print(Student3.college_timing)\n",
    "\n",
    "print(Student3.__dict__)\n",
    "\n",
    "\n",
    "\n",
    "\n",
    "\n",
    "\n",
    "\n"
   ]
  },
  {
   "cell_type": "code",
   "execution_count": 2,
   "id": "ed8ef436",
   "metadata": {},
   "outputs": [
    {
     "name": "stdout",
     "output_type": "stream",
     "text": [
      "['vignesh', '25', 'hacker']\n",
      "[22]\n",
      "{'name': 'akash', 'age': [23], 'subject': {'python'}}\n",
      "3\n",
      "3\n",
      "['ben', '55', 'data']\n",
      "sam [34] {'test'} 4\n",
      "[34]\n",
      "4\n",
      "33\n",
      "33\n"
     ]
    }
   ],
   "source": [
    "class School():\n",
    "    school_time=13\n",
    "    var=100\n",
    "    def creating_self(self):\n",
    "        print(self.name,self.age,self.subject,self.school_time)\n",
    "        \n",
    "    def __init__(self,a,b,c):\n",
    "        self.name=a\n",
    "        self.age=b\n",
    "        self.subject=c\n",
    "    \n",
    "    \n",
    "    @classmethod\n",
    "    def changing_class_variable(cls,a):\n",
    "        cls.school_time=a\n",
    "        return a\n",
    "    \n",
    "    @classmethod\n",
    "    def alternative_constructor(cls,a):\n",
    "        store=a.split(\"%\")\n",
    "        print(store)\n",
    "        return cls(store[0],store[1],store[2])\n",
    "        \n",
    "    \n",
    "        \n",
    "    pass\n",
    "\n",
    "Student1=School('akash',[23],{'python'})\n",
    "Student2=School('suresh',[22],{'java'})\n",
    "Student3=School.alternative_constructor('vignesh%25%hacker')\n",
    "\n",
    "\n",
    "\n",
    "print(Student2.age)\n",
    "\n",
    "\n",
    "print(Student1.__dict__)\n",
    "\n",
    "\n",
    "print(Student1.changing_class_variable(3))\n",
    "\n",
    "\n",
    "print(Student3.school_time)\n",
    "\n",
    "#########################################################################\n",
    "#SINGLE INHERITANCE\n",
    "\n",
    "class College(School):\n",
    "    school_time=4\n",
    "    pass\n",
    "Person1=College(\"sam\",[34],{'test'})\n",
    "Person2=College.alternative_constructor(\"ben%55%data\")\n",
    "\n",
    "\n",
    "Person1.creating_self()\n",
    "print(Person1.age)\n",
    "\n",
    "print(Person1.school_time)\n",
    "\n",
    "print(Person1.changing_class_variable(33))\n",
    "\n",
    "\n",
    "print(Person2.school_time) #using the first class template we changing school time of these class\n",
    "\n",
    "\n",
    "\n",
    "#suppose if in college class already constructor is there means it will take that constructor if not only it will take derived class\n"
   ]
  },
  {
   "cell_type": "code",
   "execution_count": 3,
   "id": "9ea1e32a",
   "metadata": {},
   "outputs": [
    {
     "name": "stdout",
     "output_type": "stream",
     "text": [
      "Rahul\n",
      "allrounder\n",
      "{'name': 'RR', 'age': '34', 'position': 'allrounder'}\n",
      "[34]\n",
      "1\n"
     ]
    }
   ],
   "source": [
    "#Multiple Inheritance\n",
    "class Ranji_Trophy():\n",
    "    field_time=12\n",
    "    var=1\n",
    "    \n",
    "    def creating_self(self):\n",
    "        print(self.name,self.age,self.position,self.field_time,self.vars)\n",
    "    \n",
    "    def __init__(self,a,b,c):\n",
    "        self.name=a\n",
    "        self.age=b\n",
    "        self.position=c\n",
    "    \n",
    "    @classmethod\n",
    "    def changing_class_variable(cls,a):\n",
    "        cls.field_time=a\n",
    "        \n",
    "    @classmethod\n",
    "    def alternative_constructor(cls,a):\n",
    "        store=a.split(\"$\")\n",
    "        return cls(store[0],store[1],store[2])\n",
    "        \n",
    "    pass\n",
    "\n",
    "Rahul=Ranji_Trophy('Rahul',[23],{'Batsman'})\n",
    "Umesh=Ranji_Trophy('Umesh',[25],{'Bowler'})\n",
    "Tewatiya=Ranji_Trophy.alternative_constructor('RR$34$allrounder')\n",
    "\n",
    "\n",
    "print(Rahul.name)\n",
    "\n",
    "\n",
    "Umesh.changing_class_variable(11)\n",
    "\n",
    "\n",
    "print(Tewatiya.position)\n",
    "\n",
    "print(Tewatiya.__dict__)\n",
    "\n",
    "\n",
    "####################################\n",
    "\n",
    "\n",
    "class Ipl_Trophy():\n",
    "    var=2\n",
    "    def __init__(self,a,b):\n",
    "        self.name=a\n",
    "        self.age=b\n",
    "    pass\n",
    "Ben=Ipl_Trophy('Ben',[34])\n",
    "\n",
    "print(Ben.age)\n",
    "\n",
    "\n",
    "\n",
    "\n",
    "\n",
    "class Odi_Trophy(Ranji_Trophy,Ipl_Trophy):\n",
    "    \n",
    "    pass\n",
    "\n",
    "Dhoni=Odi_Trophy('Dhoni',33,'keeper')\n",
    "\n",
    "\n",
    "print(Dhoni.var)\n",
    "\n",
    "\n"
   ]
  },
  {
   "cell_type": "code",
   "execution_count": null,
   "id": "46061016",
   "metadata": {},
   "outputs": [],
   "source": [
    "##############################################################################################################################"
   ]
  },
  {
   "cell_type": "code",
   "execution_count": 4,
   "id": "53c41698",
   "metadata": {},
   "outputs": [
    {
     "name": "stdout",
     "output_type": "stream",
     "text": [
      "13\n",
      "1\n",
      "1\n"
     ]
    }
   ],
   "source": [
    "#Multilevel Inheritance\n",
    "\n",
    "class Father():\n",
    "    football=13\n",
    "    pass\n",
    "\n",
    "\n",
    "class Mother(Father):\n",
    "    var=1\n",
    "    def self(self):\n",
    "        print(self.var)\n",
    "    pass\n",
    "\n",
    "class Son(Mother):\n",
    "    var=2\n",
    "    def self(self):\n",
    "        print(self.var)\n",
    "    pass\n",
    "\n",
    "\n",
    "appa=Father()\n",
    "ama=Mother()\n",
    "payan=Son()\n",
    "\n",
    "\n",
    "print(payan.football)\n",
    "ama.self()\n",
    "print(ama.var)\n",
    "#first it will search with in the classs and then checks inherited class\n"
   ]
  },
  {
   "cell_type": "code",
   "execution_count": null,
   "id": "9fe9986a",
   "metadata": {},
   "outputs": [],
   "source": [
    "####################################################################################################################\n",
    "###################################################################################################################"
   ]
  },
  {
   "cell_type": "code",
   "execution_count": 1,
   "id": "bfd58703",
   "metadata": {},
   "outputs": [
    {
     "name": "stdout",
     "output_type": "stream",
     "text": [
      "im inside constructor of class A\n"
     ]
    }
   ],
   "source": [
    "#superr()\n",
    "\n",
    "class A():\n",
    "    classvar1='Im class variable in class A'\n",
    "    def __init__(self):\n",
    "        self.name='im inside constructor class A'\n",
    "        self.classvar1='im inside constructor of class A'\n",
    "class B(A):\n",
    "    classvar2='Im class variable in class B'\n",
    "\n",
    "    \n",
    "a=A()\n",
    "b=B()\n",
    "print(b.classvar1)  #because first preference is given to constructor instance variable then only class variable\n",
    "#if classB classvar1 not there and then it checks the base class instance variable if not again comes to class B checks class variable if here also not\n",
    "#then goes to class A class variable"
   ]
  },
  {
   "cell_type": "code",
   "execution_count": 8,
   "id": "a6b4a2ae",
   "metadata": {},
   "outputs": [
    {
     "name": "stdout",
     "output_type": "stream",
     "text": [
      "Im class variable in class A\n"
     ]
    }
   ],
   "source": [
    "class A():\n",
    "    classvar1='Im class variable in class A'\n",
    "    def __init__(self):\n",
    "        self.name='im inside constructor class A'\n",
    "        #self.classvar1='im inside constructor of class A'\n",
    "class B(A):\n",
    "    #classvar1='Im inside class variable in classB'\n",
    "    pass\n",
    "\n",
    "    \n",
    "a=A()\n",
    "b=B()\n",
    "print(b.classvar1) \n",
    "\n",
    "\n",
    "#here if you see class B instance not there then it sees inherited class there also no instance then again it checks class B \n",
    "#class variable here also not there so it takes class A classvariable"
   ]
  },
  {
   "cell_type": "code",
   "execution_count": 9,
   "id": "aead3633",
   "metadata": {},
   "outputs": [
    {
     "name": "stdout",
     "output_type": "stream",
     "text": [
      "im inside constructor of class B\n"
     ]
    }
   ],
   "source": [
    "#Override -means rewrite same\n",
    "\n",
    "class A():\n",
    "    classvar1='Im class variable in class A'\n",
    "    def __init__(self):\n",
    "        self.name='im inside constructor class A'\n",
    "        self.classvar1='im inside constructor of class A'\n",
    "class B(A):\n",
    "    classvar1='Im class variable in class B'\n",
    "    #here we are overriding function itself\n",
    "    def __init__(self):\n",
    "        self.name='im inside constructor class B'\n",
    "        self.classvar1='im inside constructor of class B'\n",
    "a=A()\n",
    "b=B()\n",
    "print(b.classvar1) \n"
   ]
  },
  {
   "cell_type": "code",
   "execution_count": 10,
   "id": "07aea09d",
   "metadata": {},
   "outputs": [
    {
     "name": "stdout",
     "output_type": "stream",
     "text": [
      "Im class variable in class B\n"
     ]
    }
   ],
   "source": [
    "class A():\n",
    "    classvar1='Im class variable in class A'\n",
    "    def __init__(self):\n",
    "        self.name='im inside constructor class A'\n",
    "        self.classvar1='im inside constructor of class A'\n",
    "class B(A):\n",
    "    classvar1='Im class variable in class B'\n",
    "    #here we are overriding function itself\n",
    "    def __init__(self):\n",
    "        self.name='im inside constructor class B'\n",
    "        #self.classvar1='im inside constructor of class B'\n",
    "a=A()\n",
    "b=B()\n",
    "print(b.classvar1) \n",
    "\n",
    "#if we override a constructor the function of the previous constructor stops working,so here it wont go for class A instance it takes classB\n",
    "#class variable"
   ]
  },
  {
   "cell_type": "code",
   "execution_count": 11,
   "id": "309cd9ed",
   "metadata": {},
   "outputs": [
    {
     "name": "stdout",
     "output_type": "stream",
     "text": [
      "Im class variable in class A\n"
     ]
    }
   ],
   "source": [
    "class A():\n",
    "    classvar1='Im class variable in class A'\n",
    "    def __init__(self):\n",
    "        self.name='im inside constructor class A'\n",
    "        self.classvar1='im inside constructor of class A'\n",
    "class B(A):\n",
    "    #classvar1='Im class variable in class B'\n",
    "    #here we are overriding function itself\n",
    "    def __init__(self):\n",
    "        self.name='im inside constructor class B'\n",
    "        #self.classvar1='im inside constructor of class B'\n",
    "a=A()\n",
    "b=B()\n",
    "print(b.classvar1) \n",
    "#here class B of both instance constructor and class variable are commented so class B constructor also not working so we are taking class A class variable"
   ]
  },
  {
   "cell_type": "code",
   "execution_count": 17,
   "id": "0a902a81",
   "metadata": {},
   "outputs": [
    {
     "ename": "AttributeError",
     "evalue": "'B' object has no attribute 'special'",
     "output_type": "error",
     "traceback": [
      "\u001b[1;31m---------------------------------------------------------------------------\u001b[0m",
      "\u001b[1;31mAttributeError\u001b[0m                            Traceback (most recent call last)",
      "Input \u001b[1;32mIn [17]\u001b[0m, in \u001b[0;36m<cell line: 15>\u001b[1;34m()\u001b[0m\n\u001b[0;32m     13\u001b[0m a\u001b[38;5;241m=\u001b[39mA()\n\u001b[0;32m     14\u001b[0m b\u001b[38;5;241m=\u001b[39mB()\n\u001b[1;32m---> 15\u001b[0m \u001b[38;5;28mprint\u001b[39m(\u001b[43mb\u001b[49m\u001b[38;5;241;43m.\u001b[39;49m\u001b[43mspecial\u001b[49m)\n",
      "\u001b[1;31mAttributeError\u001b[0m: 'B' object has no attribute 'special'"
     ]
    }
   ],
   "source": [
    "class A():\n",
    "    classvar1='Im class variable in class A'\n",
    "    def __init__(self):\n",
    "        self.name='im inside constructor class A'\n",
    "        self.classvar1='im inside constructor of class A'\n",
    "        self.special='special'\n",
    "class B(A):\n",
    "    #classvar1='Im class variable in class B'\n",
    "    #here we are overriding function itself\n",
    "    def __init__(self):\n",
    "        self.name='im inside constructor class B'\n",
    "        #self.classvar1='im inside constructor of class B'\n",
    "a=A()\n",
    "b=B()\n",
    "print(b.special) \n",
    "\n"
   ]
  },
  {
   "cell_type": "code",
   "execution_count": 18,
   "id": "fea693ad",
   "metadata": {},
   "outputs": [
    {
     "name": "stdout",
     "output_type": "stream",
     "text": [
      "special\n",
      "im inside constructor of class B\n"
     ]
    }
   ],
   "source": [
    "#to use special attribute we can use super()\n",
    "#super means which ever class inherited it is super class \n",
    "class A(): #These class is super class for B\n",
    "    classvar1='Im class variable in class A'\n",
    "    def __init__(self):\n",
    "        self.name='im inside constructor class A'\n",
    "        self.classvar1='im inside constructor of class A'\n",
    "        self.special='special'\n",
    "class B(A):\n",
    "    #classvar1='Im class variable in class B'\n",
    "    #here we are overriding function itself\n",
    "    def __init__(self):\n",
    "        super().__init__()  #it is like copying and pasting the above constructor here\n",
    "        self.name='im inside constructor class B'\n",
    "        self.classvar1='im inside constructor of class B'\n",
    "a=A()\n",
    "b=B()\n",
    "print(b.special) \n",
    "print(b.classvar1)"
   ]
  },
  {
   "cell_type": "code",
   "execution_count": 16,
   "id": "8400d3c3",
   "metadata": {},
   "outputs": [
    {
     "name": "stdout",
     "output_type": "stream",
     "text": [
      "special\n",
      "im inside constructor of class A\n"
     ]
    }
   ],
   "source": [
    "\n",
    "class A(): #These class is super class for B\n",
    "    classvar1='Im class variable in class A'\n",
    "    def __init__(self):\n",
    "        self.name='im inside constructor class A'\n",
    "        self.classvar1='im inside constructor of class A'\n",
    "        self.special='special'\n",
    "class B(A):\n",
    "    #classvar1='Im class variable in class B'\n",
    "    #here we are overriding function itself\n",
    "    def __init__(self):\n",
    "        \n",
    "        self.name='im inside constructor class B'\n",
    "        self.classvar1='im inside constructor of class B'\n",
    "        super().__init__()\n",
    "a=A()\n",
    "b=B()\n",
    "print(b.special) \n",
    "print(b.classvar1)"
   ]
  },
  {
   "cell_type": "code",
   "execution_count": null,
   "id": "5502e307",
   "metadata": {},
   "outputs": [],
   "source": [
    "####################################################################################################################\n",
    "####################################################################################################################"
   ]
  },
  {
   "cell_type": "code",
   "execution_count": 3,
   "id": "1fab7dbb",
   "metadata": {},
   "outputs": [
    {
     "ename": "AttributeError",
     "evalue": "'Employee' object has no attribute 'working_hours'",
     "output_type": "error",
     "traceback": [
      "\u001b[1;31m---------------------------------------------------------------------------\u001b[0m",
      "\u001b[1;31mAttributeError\u001b[0m                            Traceback (most recent call last)",
      "Input \u001b[1;32mIn [3]\u001b[0m, in \u001b[0;36m<cell line: 11>\u001b[1;34m()\u001b[0m\n\u001b[0;32m      8\u001b[0m         \u001b[38;5;28mself\u001b[39m\u001b[38;5;241m.\u001b[39mage\u001b[38;5;241m=\u001b[39mb\n\u001b[0;32m      9\u001b[0m worker1\u001b[38;5;241m=\u001b[39mEmployee(\u001b[38;5;124m'\u001b[39m\u001b[38;5;124makash\u001b[39m\u001b[38;5;124m'\u001b[39m,\u001b[38;5;241m20\u001b[39m)\n\u001b[1;32m---> 11\u001b[0m \u001b[38;5;28mprint\u001b[39m(\u001b[43mworker1\u001b[49m\u001b[38;5;241;43m.\u001b[39;49m\u001b[43mworking_hours\u001b[49m)\n",
      "\u001b[1;31mAttributeError\u001b[0m: 'Employee' object has no attribute 'working_hours'"
     ]
    }
   ],
   "source": [
    "#Access Modifyers\n",
    "#private-we cannot access outside the class eventhough if we inherit that class also we cannot use or change it,we can use within the class\n",
    "\n",
    "class Employee():\n",
    "    __working_hours=20 #private\n",
    "    def __init__(self,a,b):\n",
    "        self.name=a\n",
    "        self.age=b\n",
    "worker1=Employee('akash',20)\n",
    "\n",
    "print(worker1.working_hours)\n"
   ]
  },
  {
   "cell_type": "code",
   "execution_count": 13,
   "id": "cc2dc29e",
   "metadata": {},
   "outputs": [
    {
     "ename": "AttributeError",
     "evalue": "'Employee' object has no attribute 'upadte_fun'",
     "output_type": "error",
     "traceback": [
      "\u001b[1;31m---------------------------------------------------------------------------\u001b[0m",
      "\u001b[1;31mAttributeError\u001b[0m                            Traceback (most recent call last)",
      "Input \u001b[1;32mIn [13]\u001b[0m, in \u001b[0;36m<cell line: 11>\u001b[1;34m()\u001b[0m\n\u001b[0;32m      7\u001b[0m         \u001b[38;5;28mprint\u001b[39m(\u001b[38;5;28mself\u001b[39m\u001b[38;5;241m.\u001b[39mname,\u001b[38;5;28mself\u001b[39m\u001b[38;5;241m.\u001b[39mage)\n\u001b[0;32m      8\u001b[0m worker1\u001b[38;5;241m=\u001b[39mEmployee(\u001b[38;5;124m'\u001b[39m\u001b[38;5;124makash\u001b[39m\u001b[38;5;124m'\u001b[39m,\u001b[38;5;241m20\u001b[39m)\n\u001b[1;32m---> 11\u001b[0m \u001b[43mworker1\u001b[49m\u001b[38;5;241;43m.\u001b[39;49m\u001b[43mupadte_fun\u001b[49m()\n",
      "\u001b[1;31mAttributeError\u001b[0m: 'Employee' object has no attribute 'upadte_fun'"
     ]
    }
   ],
   "source": [
    "class Employee():\n",
    "    working_hours=20 \n",
    "    def __init__(self,a,b):\n",
    "        self.name=a\n",
    "        self.age=b\n",
    "    def __upadte_fun(self):#private\n",
    "        print(self.name,self.age)\n",
    "worker1=Employee('akash',20)\n",
    "\n",
    "\n",
    "worker1.upadte_fun()"
   ]
  },
  {
   "cell_type": "code",
   "execution_count": 5,
   "id": "0fc678d2",
   "metadata": {},
   "outputs": [
    {
     "name": "stdout",
     "output_type": "stream",
     "text": [
      "10\n",
      "10\n"
     ]
    }
   ],
   "source": [
    "#protected -we can also use by inherit also ,almost same like public only\n",
    "\n",
    "\n",
    "class Employee():\n",
    "    _workinghours=10\n",
    "    pass\n",
    "vicky=Employee()\n",
    "\n",
    "class Worker(Employee):\n",
    "    pass\n",
    "Akash=Worker()\n",
    "print(Akash. _workinghours)\n",
    "print(vicky._workinghours)"
   ]
  },
  {
   "cell_type": "code",
   "execution_count": 12,
   "id": "5aa57fcb",
   "metadata": {},
   "outputs": [
    {
     "name": "stdout",
     "output_type": "stream",
     "text": [
      "1\n"
     ]
    }
   ],
   "source": [
    "#To control private we can use name mangling\n",
    "class A():\n",
    "    __classvar=1\n",
    "a=A()\n",
    "print(a._A__classvar) #name mangling and we are accessing it _A "
   ]
  },
  {
   "cell_type": "code",
   "execution_count": null,
   "id": "9f86fefc",
   "metadata": {},
   "outputs": [],
   "source": [
    "###############################################################################################################################\n",
    "###############################################################################################################################"
   ]
  },
  {
   "cell_type": "code",
   "execution_count": 5,
   "id": "4c9185d3",
   "metadata": {},
   "outputs": [
    {
     "name": "stdout",
     "output_type": "stream",
     "text": [
      "11\n",
      "56\n"
     ]
    }
   ],
   "source": [
    "#Polymorphism-changing forms\n",
    "print(5+6)\n",
    "print('5'+'6')"
   ]
  },
  {
   "cell_type": "code",
   "execution_count": null,
   "id": "ed8e49e1",
   "metadata": {},
   "outputs": [],
   "source": [
    "################################################################################################################################\n",
    "##############################################################################################################################"
   ]
  },
  {
   "cell_type": "code",
   "execution_count": 3,
   "id": "c6d00d74",
   "metadata": {},
   "outputs": [
    {
     "name": "stdout",
     "output_type": "stream",
     "text": [
      "hi im from outer class\n",
      "hi im from inner func\n",
      "hi im from inner class constructor\n",
      "hi im from outer class\n",
      "hi im from inner class constructor\n",
      "hi im from inner func\n"
     ]
    }
   ],
   "source": [
    "#Inner class\n",
    "class Outer_class():\n",
    "    def __init__(self):\n",
    "        print('hi im from outer class')\n",
    "\n",
    "    class Inner_class():\n",
    "        def __init__(self):\n",
    "            print('hi im from inner class constructor')\n",
    "        def inner_func(self):\n",
    "            print('hi im from inner func')\n",
    "\n",
    "    def outer_func(self):\n",
    "        print('hi im from inner func')\n",
    "a=Outer_class()\n",
    "a.outer_func()\n",
    "b= a.Inner_class() #we need to create a object for inner class using object of the outerclass\n",
    "c=Outer_class().Inner_class()\n",
    "   #outerclass   #innerclass\n",
    "c.inner_func()\n",
    "\n",
    "\n",
    "\n",
    "#we cannnot access methods of the inner class using outer class object \n",
    "\n",
    "\n"
   ]
  },
  {
   "cell_type": "code",
   "execution_count": 24,
   "id": "c3e3b76e",
   "metadata": {},
   "outputs": [
    {
     "name": "stdout",
     "output_type": "stream",
     "text": [
      "akash\n",
      "20\n",
      "20\n"
     ]
    }
   ],
   "source": [
    "\n",
    "\n",
    "class A():\n",
    "    def __init__(self):\n",
    "        self.name='akash'\n",
    "        self.b=self.B()\n",
    "        self.f='p'\n",
    "\n",
    "    class B():\n",
    "        def __init__(self):\n",
    "            self.age=20\n",
    "\n",
    "a=A()\n",
    "print(a.name)\n",
    "print(a.b.age)\n",
    "\n",
    "c=a.B()\n",
    "print(c.age)\n",
    "\n",
    "\n",
    "\n",
    "\n"
   ]
  },
  {
   "cell_type": "code",
   "execution_count": null,
   "id": "cdc0722e",
   "metadata": {},
   "outputs": [],
   "source": [
    "#Data Abstraction\n",
    "#we cant create objects for abstract class "
   ]
  }
 ],
 "metadata": {
  "kernelspec": {
   "display_name": "Python 3 (ipykernel)",
   "language": "python",
   "name": "python3"
  },
  "language_info": {
   "codemirror_mode": {
    "name": "ipython",
    "version": 3
   },
   "file_extension": ".py",
   "mimetype": "text/x-python",
   "name": "python",
   "nbconvert_exporter": "python",
   "pygments_lexer": "ipython3",
   "version": "3.9.12"
  }
 },
 "nbformat": 4,
 "nbformat_minor": 5
}
