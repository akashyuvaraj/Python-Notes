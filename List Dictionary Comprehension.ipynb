{
 "cells": [
  {
   "cell_type": "code",
   "execution_count": 1,
   "id": "0f32f81a",
   "metadata": {},
   "outputs": [
    {
     "name": "stdout",
     "output_type": "stream",
     "text": [
      "[1, 2, 3, 4]\n"
     ]
    }
   ],
   "source": [
    "#List Comprehension\n",
    "#creating a new list based on existing list with iterable object \n",
    "#syntax list=[expression for loop  if condition ==True]\n",
    "#expression holds one word at a time\n",
    "\n",
    "a=[1,2,3,4]\n",
    "a_copy=[x for x in a]\n",
    "print(a_copy)"
   ]
  },
  {
   "cell_type": "code",
   "execution_count": 1,
   "id": "9c8d2221",
   "metadata": {},
   "outputs": [
    {
     "name": "stdout",
     "output_type": "stream",
     "text": [
      "['APPLE', 'MANGO']\n"
     ]
    }
   ],
   "source": [
    "a=['apple','mango']\n",
    "b=[x.upper()   for x in a]\n",
    "print(b)"
   ]
  },
  {
   "cell_type": "code",
   "execution_count": 3,
   "id": "582d274a",
   "metadata": {},
   "outputs": [
    {
     "name": "stdout",
     "output_type": "stream",
     "text": [
      "[2, 4, 6, 8, 10]\n"
     ]
    }
   ],
   "source": [
    "a=[i  for i in range(1,11)  if i%2==0]\n",
    "print(a)"
   ]
  },
  {
   "cell_type": "code",
   "execution_count": 5,
   "id": "42014f1e",
   "metadata": {},
   "outputs": [
    {
     "name": "stdout",
     "output_type": "stream",
     "text": [
      "[6, 12, 18]\n"
     ]
    }
   ],
   "source": [
    "a=[i  for i in range(1,21)  if i%2==0 if i%3==0] #the other if is like regualr nested statement\n",
    "print(a)"
   ]
  },
  {
   "cell_type": "code",
   "execution_count": null,
   "id": "3b6b4961",
   "metadata": {},
   "outputs": [],
   "source": [
    "#syntax new_list =[expression if condition else expression   for loop ]"
   ]
  },
  {
   "cell_type": "code",
   "execution_count": 17,
   "id": "c231ff06",
   "metadata": {},
   "outputs": [
    {
     "name": "stdout",
     "output_type": "stream",
     "text": [
      "['Invalid', 2, 'Invalid', 4, 'Invalid', 6, 'Invalid', 8, 'Invalid']\n"
     ]
    }
   ],
   "source": [
    "a=[ i  if i%2==0 else 'Invalid' for i in range(1,10)  ]\n",
    "print(a)"
   ]
  },
  {
   "cell_type": "code",
   "execution_count": 1,
   "id": "4f199f68",
   "metadata": {},
   "outputs": [
    {
     "name": "stdout",
     "output_type": "stream",
     "text": [
      "Hello My name is Mariya\n"
     ]
    }
   ],
   "source": [
    "a='HelloMyNameIsMariya'\n",
    "a=''.join([i if i.islower() else ' '+i.lower() if i in ['N','I'] else ' '+ i for i in a])[1:]\n",
    "print(a)"
   ]
  },
  {
   "cell_type": "code",
   "execution_count": 9,
   "id": "98a27b62",
   "metadata": {},
   "outputs": [
    {
     "name": "stdout",
     "output_type": "stream",
     "text": [
      "Hello My bannaname bannans Mariya\n"
     ]
    }
   ],
   "source": [
    "a='HelloMyNameIsMariya'\n",
    "a=''.join([i if i.islower() else ' '+'bannan' if i in ['N','I'] else ' '+ i for i in a])[1:]\n",
    "print(a)"
   ]
  },
  {
   "cell_type": "code",
   "execution_count": 20,
   "id": "c07a2021",
   "metadata": {},
   "outputs": [
    {
     "name": "stdout",
     "output_type": "stream",
     "text": [
      "[[24, 30, 36], [28, 35, 42]]\n"
     ]
    }
   ],
   "source": [
    "#syntax nested comprehension\n",
    "\n",
    "a=[[i*j for j in range(4,7)] for i in range(6,8)]\n",
    "          #inner loop         #outer loop\n",
    "print(a)\n"
   ]
  },
  {
   "cell_type": "code",
   "execution_count": 1,
   "id": "e80645e3",
   "metadata": {},
   "outputs": [
    {
     "name": "stdout",
     "output_type": "stream",
     "text": [
      "[1, 2, 3, 4, 5, 6, 7, 8, 9]\n"
     ]
    }
   ],
   "source": [
    "matrix=[[1,2,3],[4,5,6],[7,8,9]]\n",
    "\n",
    "flattened=[]\n",
    "\n",
    "for row in matrix:\n",
    "    for num in row:\n",
    "        flattened.append(num)\n",
    "\n",
    "        \n",
    "flattened=[ num   for row in matrix   for num in row  ]\n",
    "                    #outerloop          #innerloop\n",
    "print(flattened)\n",
    "        "
   ]
  },
  {
   "cell_type": "code",
   "execution_count": 11,
   "id": "c0ab182e",
   "metadata": {},
   "outputs": [],
   "source": [
    "########################################################################################################################\n",
    "########################################################################################################################"
   ]
  },
  {
   "cell_type": "code",
   "execution_count": 12,
   "id": "baccaff1",
   "metadata": {},
   "outputs": [
    {
     "name": "stdout",
     "output_type": "stream",
     "text": [
      "{0: 0, 1: 2, 2: 4, 3: 6, 4: 8, 5: 10, 6: 12, 7: 14, 8: 16, 9: 18}\n"
     ]
    }
   ],
   "source": [
    "#Dictionary Comprehension\n",
    "\n",
    "\n",
    "dict={i:i*2    for i in range(10)}\n",
    "print(dict)"
   ]
  },
  {
   "cell_type": "code",
   "execution_count": 15,
   "id": "26a7d725",
   "metadata": {},
   "outputs": [
    {
     "name": "stdout",
     "output_type": "stream",
     "text": [
      "{0: 0, 6: 12}\n"
     ]
    }
   ],
   "source": [
    "dict={i:i*2    for i in range(10)  if i%2==0  if i%3==0}\n",
    "                                              #it is like  nested if \n",
    "              \n",
    "print(dict)"
   ]
  },
  {
   "cell_type": "code",
   "execution_count": 3,
   "id": "90fccbdf",
   "metadata": {},
   "outputs": [
    {
     "name": "stdout",
     "output_type": "stream",
     "text": [
      "{1: 'one', 2: 'two'}\n"
     ]
    }
   ],
   "source": [
    "a=[1,2]\n",
    "b=['one','two']\n",
    "\n",
    "lst={x:y for x,y in zip(a,b)}\n",
    "print(lst)"
   ]
  },
  {
   "cell_type": "code",
   "execution_count": 5,
   "id": "c05557c2",
   "metadata": {},
   "outputs": [
    {
     "name": "stdout",
     "output_type": "stream",
     "text": [
      "{1: 'one', 2: 'two'}\n"
     ]
    }
   ],
   "source": [
    "a=[1,2]\n",
    "b=['one','two']\n",
    "\n",
    "lst={a[x]:b[x]   for x in range(len(a))}\n",
    "print(lst)"
   ]
  }
 ],
 "metadata": {
  "kernelspec": {
   "display_name": "Python 3 (ipykernel)",
   "language": "python",
   "name": "python3"
  },
  "language_info": {
   "codemirror_mode": {
    "name": "ipython",
    "version": 3
   },
   "file_extension": ".py",
   "mimetype": "text/x-python",
   "name": "python",
   "nbconvert_exporter": "python",
   "pygments_lexer": "ipython3",
   "version": "3.9.12"
  }
 },
 "nbformat": 4,
 "nbformat_minor": 5
}
