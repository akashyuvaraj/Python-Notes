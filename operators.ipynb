{
 "cells": [
  {
   "cell_type": "code",
   "execution_count": 1,
   "id": "c9fb29d4",
   "metadata": {},
   "outputs": [
    {
     "name": "stdout",
     "output_type": "stream",
     "text": [
      "20\n",
      "0\n",
      "100\n",
      "1.0\n"
     ]
    }
   ],
   "source": [
    "#Arithematic operators \n",
    "#+ - * / %\n",
    "a=10\n",
    "b=10\n",
    "print(a+b)\n",
    "print(a-b)\n",
    "print(a*b)\n",
    "print(a/b)  #it returns float object only\n"
   ]
  },
  {
   "cell_type": "code",
   "execution_count": 2,
   "id": "14b9bfe6",
   "metadata": {},
   "outputs": [
    {
     "name": "stdout",
     "output_type": "stream",
     "text": [
      "quotient is: 2\n",
      "remainder is: 1\n"
     ]
    }
   ],
   "source": [
    "#Floor division operator\n",
    "a=5\n",
    "quotient = a//2    #it always returns integer value as result\n",
    "remainder =a % 2\n",
    "\n",
    "print('quotient is:',quotient)\n",
    "print('remainder is:',remainder)"
   ]
  },
  {
   "cell_type": "code",
   "execution_count": 8,
   "id": "2fea0a91",
   "metadata": {},
   "outputs": [
    {
     "name": "stdout",
     "output_type": "stream",
     "text": [
      "125\n"
     ]
    }
   ],
   "source": [
    "#power operator\n",
    "a=5\n",
    "b=3\n",
    "print(a**b)"
   ]
  },
  {
   "cell_type": "code",
   "execution_count": 11,
   "id": "527c02b0",
   "metadata": {},
   "outputs": [
    {
     "name": "stdout",
     "output_type": "stream",
     "text": [
      "1 2 3\n"
     ]
    }
   ],
   "source": [
    "#multiple assignment operator\n",
    "a,b,c=1,2,3\n",
    "print(a,b,c)"
   ]
  },
  {
   "cell_type": "code",
   "execution_count": 3,
   "id": "c4b4e2dc",
   "metadata": {},
   "outputs": [
    {
     "name": "stdout",
     "output_type": "stream",
     "text": [
      "value of a: 17\n",
      "17\n"
     ]
    }
   ],
   "source": [
    "#compound assignment operator\n",
    "a=9\n",
    "b=8\n",
    "a+=b #a=a+b\n",
    "print(\"value of a:\",a)\n",
    "\n",
    "x=7\n",
    "x+=10\n",
    "print(x)\n"
   ]
  },
  {
   "cell_type": "code",
   "execution_count": 15,
   "id": "757ae3b9",
   "metadata": {},
   "outputs": [
    {
     "name": "stdout",
     "output_type": "stream",
     "text": [
      "False\n",
      "False\n",
      "True\n"
     ]
    }
   ],
   "source": [
    "#Relational operartor - it returns true or false\n",
    "#== ,<,>,!=,>=.<=\n",
    "a=12\n",
    "b=7\n",
    "print(a==b) \n",
    "print(a<b)\n",
    "print(a!=b)"
   ]
  },
  {
   "cell_type": "code",
   "execution_count": 4,
   "id": "c07315ff",
   "metadata": {},
   "outputs": [
    {
     "name": "stdout",
     "output_type": "stream",
     "text": [
      "100\n",
      "True\n"
     ]
    }
   ],
   "source": [
    "#logical AND operator\n",
    "#true--> expression--> expression\n",
    "#false--> expression--->false\n",
    "\n",
    "a=5\n",
    "b=10\n",
    "c=100\n",
    "print((a<b)and 100)\n",
    "\n",
    "\n",
    "\n",
    "\n",
    "\n",
    "#Logical OR operator\n",
    "#true--> expression--> True\n",
    "#false--> expression--->expression\n",
    "\n",
    "a=5\n",
    "b=10\n",
    "c=100\n",
    "print((a<b) or 100)\n",
    "\n"
   ]
  },
  {
   "cell_type": "code",
   "execution_count": 1,
   "id": "ab18aadf",
   "metadata": {},
   "outputs": [
    {
     "name": "stdout",
     "output_type": "stream",
     "text": [
      "first expression: False\n",
      "second expresion: False\n"
     ]
    }
   ],
   "source": [
    "a=4\n",
    "b=8\n",
    "win=(a==b) and (a!=b)\n",
    "print(\"first expression:\",win)\n",
    "win=not(a!=b) or (a>b)\n",
    "print('second expresion:',win)\n"
   ]
  },
  {
   "cell_type": "code",
   "execution_count": 4,
   "id": "c24e3040",
   "metadata": {},
   "outputs": [
    {
     "name": "stdout",
     "output_type": "stream",
     "text": [
      "True\n"
     ]
    }
   ],
   "source": [
    "a='po'\n",
    "print('po'==a)"
   ]
  },
  {
   "cell_type": "code",
   "execution_count": null,
   "id": "4ad8e849",
   "metadata": {},
   "outputs": [],
   "source": [
    "#identity operator\n",
    "#is - checks one object using two variable true ojbj 1 is obj 2\n",
    "#is not - two memory location using two ojects seprately\n",
    "\n",
    "a=12\n",
    "a=20\n",
    "if a is a:\n",
    "    print('same')\n",
    "else:\n",
    "        print('different')"
   ]
  },
  {
   "cell_type": "code",
   "execution_count": null,
   "id": "31f9f8f1",
   "metadata": {},
   "outputs": [],
   "source": [
    "L = [1, 2, 3]\n",
    "print(id(L))\n",
    "L.append(4)\n",
    "print(id(L))\n",
    "#here content only changes not memory location"
   ]
  },
  {
   "cell_type": "code",
   "execution_count": 3,
   "id": "20326da4",
   "metadata": {},
   "outputs": [
    {
     "name": "stdout",
     "output_type": "stream",
     "text": [
      "[1, 2, 3]\n",
      "2498228070144\n",
      "[1, 2, 3, 4]\n",
      "2498228070144\n"
     ]
    }
   ],
   "source": [
    "\n",
    "L = [1, 2, 3]\n",
    "print(L)\n",
    "print(id(L))\n",
    "\n",
    "L += [4]\n",
    "print(L)\n",
    "\n",
    "print(id(L))\n",
    "\n",
    "\n"
   ]
  }
 ],
 "metadata": {
  "kernelspec": {
   "display_name": "Python 3 (ipykernel)",
   "language": "python",
   "name": "python3"
  },
  "language_info": {
   "codemirror_mode": {
    "name": "ipython",
    "version": 3
   },
   "file_extension": ".py",
   "mimetype": "text/x-python",
   "name": "python",
   "nbconvert_exporter": "python",
   "pygments_lexer": "ipython3",
   "version": "3.9.12"
  }
 },
 "nbformat": 4,
 "nbformat_minor": 5
}
