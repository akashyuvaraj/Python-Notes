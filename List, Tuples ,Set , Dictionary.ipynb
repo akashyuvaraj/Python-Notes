{
 "cells": [
  {
   "cell_type": "code",
   "execution_count": null,
   "id": "68cbca6b",
   "metadata": {},
   "outputs": [],
   "source": [
    "#LIST"
   ]
  },
  {
   "cell_type": "code",
   "execution_count": 2,
   "id": "cb7f5e30",
   "metadata": {},
   "outputs": [
    {
     "name": "stdout",
     "output_type": "stream",
     "text": [
      "[[1, 2, 3, [4]], (1, 2, [3]), {(1,), 2, 3}, {0: {1: {2: {3: 4}}}}, True, 9.0, False, ('akash', 'win')]\n"
     ]
    }
   ],
   "source": [
    "list1=[[1,2,3,[4]],(1,2,[3]),{(1,),2,3},{0:{1:{2:{3:4}}}},True,9.0,False]                      #append\n",
    "list1.append(('akash','win'))                                                \n",
    "print(list1)"
   ]
  },
  {
   "cell_type": "code",
   "execution_count": 9,
   "id": "bfdfeacd",
   "metadata": {},
   "outputs": [
    {
     "name": "stdout",
     "output_type": "stream",
     "text": [
      "[[1, 2, 3, [4]], (1, 2, [3]), {(1,), 2, 3}, {0: {1: {2: {3: 4}}}}, True, 9.0, False]\n"
     ]
    }
   ],
   "source": [
    "list1=[[1,2,3,[4]],(1,2,[3]),{(1,),2,3},{0:{1:{2:{3:4}}}},True,True,9.0,False]                 #pop\n",
    "list1.pop(4)\n",
    "print(list1)"
   ]
  },
  {
   "cell_type": "code",
   "execution_count": 4,
   "id": "750de35b",
   "metadata": {},
   "outputs": [
    {
     "name": "stdout",
     "output_type": "stream",
     "text": [
      "[[1, 2, 3, [4]], (1, 2, [3]), {(1,), 2, 3}, {0: {1: {2: {3: 4}}}}, {0: {1: {2: {3: 4}}}}, True, 9.0, False]\n"
     ]
    }
   ],
   "source": [
    "1qlist1=[[1,2,3,[4]],(1,2,[3]),{(1,),2,3},{0:{1:{2:{3:4}}}},True,9.0,False]                     #insert\n",
    "list1.insert(3,{0:{1:{2:{3:4}}}})                                                          \n",
    "print(list1)"
   ]
  },
  {
   "cell_type": "code",
   "execution_count": 5,
   "id": "484637f5",
   "metadata": {},
   "outputs": [
    {
     "name": "stdout",
     "output_type": "stream",
     "text": [
      "[(1, 2, [3]), {(1,), 2, 3}, {0: {1: {2: {3: 4}}}}, True, True, 9.0, False]\n"
     ]
    }
   ],
   "source": [
    "list1=[[1,2,3,[4]],(1,2,[3]),{(1,),2,3},{0:{1:{2:{3:4}}}},True,True,9.0,False]                #remove \n",
    "list1.remove([1,2,3,[4]])\n",
    "print(list1)"
   ]
  },
  {
   "cell_type": "code",
   "execution_count": 6,
   "id": "02cb7fbe",
   "metadata": {},
   "outputs": [
    {
     "name": "stdout",
     "output_type": "stream",
     "text": [
      "[False, 9.0, True, {0: {1: {2: {3: 4}}}}, {(1,), 2, 3}, (1, 2, [3]), [1, 2, 3, [4]]]\n"
     ]
    }
   ],
   "source": [
    "list1=[[1,2,3,[4]],(1,2,[3]),{(1,),2,3},{0:{1:{2:{3:4}}}},True,9.0,False]                      #reverse\n",
    "list1.reverse()\n",
    "print(list1)"
   ]
  },
  {
   "cell_type": "code",
   "execution_count": 7,
   "id": "a1388ca3",
   "metadata": {},
   "outputs": [
    {
     "name": "stdout",
     "output_type": "stream",
     "text": [
      "[]\n"
     ]
    }
   ],
   "source": [
    "list1=[[1,2,3,[4]],(1,2,[3]),{(1,),2,3},{0:{1:{2:{3:4}}}},True,9.0,False]                       #clear()                  \n",
    "list1.clear()\n",
    "print(list1)"
   ]
  },
  {
   "cell_type": "code",
   "execution_count": 8,
   "id": "fc6821ae",
   "metadata": {},
   "outputs": [
    {
     "name": "stdout",
     "output_type": "stream",
     "text": [
      "[[1, 2, 3, [4]], (1, 2, [3]), {(1,), 2, 3}, {0: {1: {}}}, True, 9.0, False]\n"
     ]
    }
   ],
   "source": [
    "list1=[[1,2,3,[4]],(1,2,[3]),{(1,),2,3},{0:{1:{2:{3:4}}}},True,9.0,False]                      #del\n",
    "del list1[3][0][1][2]\n",
    "print(list1)"
   ]
  },
  {
   "cell_type": "code",
   "execution_count": 63,
   "id": "66b95688",
   "metadata": {},
   "outputs": [
    {
     "name": "stdout",
     "output_type": "stream",
     "text": [
      "['hello', (1, 2, 3), {1: {0: 'one'}}]\n"
     ]
    }
   ],
   "source": [
    "list1=[[1,2,3],'hello',{'one','two'},(1,2,3),{1:{0:'one'}}]                                    #del\n",
    "del list1[0],list1[1]                                      \n",
    "print(list1)"
   ]
  },
  {
   "cell_type": "code",
   "execution_count": 1,
   "id": "804e773c",
   "metadata": {},
   "outputs": [
    {
     "name": "stdout",
     "output_type": "stream",
     "text": [
      "[[1, 2, 3], (1, 2, 3), 5]\n",
      "['hello', {'two', 'one'}, {1: {0: 'one'}}, 4, 6]\n"
     ]
    }
   ],
   "source": [
    "list1=[[1,2,3],'hello',{'one','two'},(1,2,3),{1:{0:'one'}},4,5,6]                               #del\n",
    "print(list1[::3])\n",
    "del list1[::3]                                        \n",
    "print(list1)"
   ]
  },
  {
   "cell_type": "code",
   "execution_count": 25,
   "id": "73a6cb82",
   "metadata": {},
   "outputs": [
    {
     "name": "stdout",
     "output_type": "stream",
     "text": [
      "[[1, 2, 3], 'hello', {'two', 'one'}, (1, 2, 3), {0: {0: 'one'}}]\n"
     ]
    }
   ],
   "source": [
    "list1=[[1,2,3],'hello',{'one','two'},(1,2,3),{0:{0:'one'}}]                                    #copy\n",
    "list2=list1.copy()                                         \n",
    "print(list2)"
   ]
  },
  {
   "cell_type": "code",
   "execution_count": 54,
   "id": "9c21e01f",
   "metadata": {},
   "outputs": [
    {
     "name": "stdout",
     "output_type": "stream",
     "text": [
      "[[1, 2, 3], 'hello', {'two', 'one'}, (1, 2, 3), {0: {0: 'one'}}]\n"
     ]
    }
   ],
   "source": [
    "list1=[[1,2,3],'hello',{'one','two'},(1,2,3),{0:{0:'one'}}]                                    #copy\n",
    "list2=list1[:]                                         \n",
    "print(list2)"
   ]
  },
  {
   "cell_type": "code",
   "execution_count": 27,
   "id": "bb6fe284",
   "metadata": {},
   "outputs": [
    {
     "name": "stdout",
     "output_type": "stream",
     "text": [
      "['APPLE', 'MANGO', 'apple', 'mango']\n"
     ]
    }
   ],
   "source": [
    "list1=['apple','APPLE','mango','MANGO']                                   #sort-it sorts between integer or string\n",
    "list1.sort()                                           \n",
    "print(list1)"
   ]
  },
  {
   "cell_type": "code",
   "execution_count": 33,
   "id": "2215e7d9",
   "metadata": {},
   "outputs": [
    {
     "name": "stdout",
     "output_type": "stream",
     "text": [
      "5\n",
      "1\n",
      "4\n"
     ]
    }
   ],
   "source": [
    "list1=[[1,2,3],'hello',{'one','two'},(1,2,3),{0:{0:'one'}}]                #count #index #len\n",
    "print(len(list1))\n",
    "print(list1.count({0:{0:'one'}}))\n",
    "print(list1.index({0:{0:'one'}}))"
   ]
  },
  {
   "cell_type": "code",
   "execution_count": 7,
   "id": "cf67d236",
   "metadata": {},
   "outputs": [
    {
     "name": "stdout",
     "output_type": "stream",
     "text": [
      "[[1, 2, 3], 'hello', {'two', 'one'}, (1, 2, 3), {0: {0: 'one'}}, [7, 8, 9], ['win']]\n"
     ]
    }
   ],
   "source": [
    "list1=[[1,2,3],'hello',{'one','two'},(1,2,3),{0:{0:'one'}}]                    #extend with list\n",
    "b=[7,8,9],['win']\n",
    "list1.extend(b)\n",
    "print(list1)"
   ]
  },
  {
   "cell_type": "code",
   "execution_count": 37,
   "id": "4d0c1cf9",
   "metadata": {},
   "outputs": [
    {
     "name": "stdout",
     "output_type": "stream",
     "text": [
      "[[1, 2, 3], 'hello', {'two', 'one'}, (1, 2, 3), {0: {0: 'one'}}, 'hello']\n"
     ]
    }
   ],
   "source": [
    "list1=[[1,2,3],'hello',{'one','two'},(1,2,3),{0:{0:'one'}}]                  #extend with tuple\n",
    "b=('hello',)\n",
    "list1.extend(b)\n",
    "print(list1)"
   ]
  },
  {
   "cell_type": "code",
   "execution_count": 40,
   "id": "1add5306",
   "metadata": {},
   "outputs": [
    {
     "name": "stdout",
     "output_type": "stream",
     "text": [
      "[[1, 2, 3], 'hello', {'two', 'one'}, (1, 2, 3), {0: {0: 'one'}}, 'one']\n"
     ]
    }
   ],
   "source": [
    "list1=[[1,2,3],'hello',{'one','two'},(1,2,3),{0:{0:'one'}}]                  #extend with set\n",
    "b={'one'}\n",
    "list1.extend(b)\n",
    "print(list1)"
   ]
  },
  {
   "cell_type": "code",
   "execution_count": 41,
   "id": "2824dd02",
   "metadata": {},
   "outputs": [
    {
     "name": "stdout",
     "output_type": "stream",
     "text": [
      "[[1, 2, 3], 'hello', {'two', 'one'}, (1, 2, 3), {0: {0: 'one'}}, 1]\n"
     ]
    }
   ],
   "source": [
    "list1=[[1,2,3],'hello',{'one','two'},(1,2,3),{0:{0:'one'}}]                  #extend with dictionary\n",
    "b={1:'one'}\n",
    "list1.extend(b)\n",
    "print(list1)"
   ]
  },
  {
   "cell_type": "code",
   "execution_count": 42,
   "id": "05e6a4e1",
   "metadata": {},
   "outputs": [
    {
     "name": "stdout",
     "output_type": "stream",
     "text": [
      "[[1, 2, 3], 'hello', {'two', 'one'}, (1, 2, 3), {0: {0: 'one'}}, 'w', 'i', 'n']\n"
     ]
    }
   ],
   "source": [
    "list1=[[1,2,3],'hello',{'one','two'},(1,2,3),{0:{0:'one'}}]                  #extend with string\n",
    "b='win'\n",
    "list1.extend(b)\n",
    "print(list1)"
   ]
  },
  {
   "cell_type": "code",
   "execution_count": 44,
   "id": "db8ddd06",
   "metadata": {},
   "outputs": [
    {
     "name": "stdout",
     "output_type": "stream",
     "text": [
      "[[1, 2, 3], 'hello', {'two', 'one'}, (1, 2, 3), {0: {0: 'one'}}, 45, 7]\n"
     ]
    }
   ],
   "source": [
    "list1=[[1,2,3],'hello',{'one','two'},(1,2,3),{0:{0:'one'}}]                  #extend with tuple\n",
    "b=45,7\n",
    "list1.extend(b)\n",
    "print(list1)"
   ]
  },
  {
   "cell_type": "code",
   "execution_count": 3,
   "id": "6175ccfc",
   "metadata": {},
   "outputs": [
    {
     "ename": "TypeError",
     "evalue": "list.extend() takes exactly one argument (2 given)",
     "output_type": "error",
     "traceback": [
      "\u001b[1;31m---------------------------------------------------------------------------\u001b[0m",
      "\u001b[1;31mTypeError\u001b[0m                                 Traceback (most recent call last)",
      "Input \u001b[1;32mIn [3]\u001b[0m, in \u001b[0;36m<cell line: 3>\u001b[1;34m()\u001b[0m\n\u001b[0;32m      1\u001b[0m list1\u001b[38;5;241m=\u001b[39m[[\u001b[38;5;241m1\u001b[39m,\u001b[38;5;241m2\u001b[39m,\u001b[38;5;241m3\u001b[39m],\u001b[38;5;124m'\u001b[39m\u001b[38;5;124mhello\u001b[39m\u001b[38;5;124m'\u001b[39m,{\u001b[38;5;124m'\u001b[39m\u001b[38;5;124mone\u001b[39m\u001b[38;5;124m'\u001b[39m,\u001b[38;5;124m'\u001b[39m\u001b[38;5;124mtwo\u001b[39m\u001b[38;5;124m'\u001b[39m},(\u001b[38;5;241m1\u001b[39m,\u001b[38;5;241m2\u001b[39m,\u001b[38;5;241m3\u001b[39m),{\u001b[38;5;241m0\u001b[39m:{\u001b[38;5;241m0\u001b[39m:\u001b[38;5;124m'\u001b[39m\u001b[38;5;124mone\u001b[39m\u001b[38;5;124m'\u001b[39m}}]                  \u001b[38;5;66;03m#extend with tuple\u001b[39;00m\n\u001b[1;32m----> 3\u001b[0m \u001b[43mlist1\u001b[49m\u001b[38;5;241;43m.\u001b[39;49m\u001b[43mextend\u001b[49m\u001b[43m(\u001b[49m\u001b[38;5;241;43m8\u001b[39;49m\u001b[43m,\u001b[49m\u001b[38;5;241;43m9\u001b[39;49m\u001b[43m)\u001b[49m\n\u001b[0;32m      4\u001b[0m \u001b[38;5;28mprint\u001b[39m(list1)\n",
      "\u001b[1;31mTypeError\u001b[0m: list.extend() takes exactly one argument (2 given)"
     ]
    }
   ],
   "source": [
    "list1=[[1,2,3],'hello',{'one','two'},(1,2,3),{0:{0:'one'}}]                  #extend with tuple\n",
    "\n",
    "list1.extend(8,9)\n",
    "print(list1)"
   ]
  },
  {
   "cell_type": "code",
   "execution_count": 10,
   "id": "8d367502",
   "metadata": {},
   "outputs": [
    {
     "name": "stdout",
     "output_type": "stream",
     "text": [
      "[[1, 2, 3], 'hello', {'one', 'two'}, (1, 2, 3), {0: {0: 'one'}}, ['one'], ['two']]\n"
     ]
    }
   ],
   "source": [
    "list1=[[1,2,3],'hello',{'one','two'},(1,2,3),{0:{0:'one'}}]                         #extend \n",
    "\n",
    "list1.extend([['one'],['two']])\n",
    "print(list1)"
   ]
  },
  {
   "cell_type": "code",
   "execution_count": 18,
   "id": "8748307d",
   "metadata": {},
   "outputs": [
    {
     "name": "stdout",
     "output_type": "stream",
     "text": [
      "foward indexing: one\n",
      "negative indexing one\n",
      "indexing: [{'two', 'one'}, (1, 2, 3), {0: {1: 'one'}}]\n",
      "indexing: [{'two', 'one'}, 'hello', [1, 2, 3]]\n"
     ]
    }
   ],
   "source": [
    "#indexing\n",
    "list1=[[1,2,3],'hello',{'one','two'},(1,2,3),{0:{1:'one'}}]                                   \n",
    "print('foward indexing:',list1[4][0][1])\n",
    "print('negative indexing',list1[-1][0][1])\n",
    "print('indexing:',list1[-3:])\n",
    "print('indexing:',list1[-3::-1])"
   ]
  },
  {
   "cell_type": "code",
   "execution_count": 1,
   "id": "fba87589",
   "metadata": {},
   "outputs": [
    {
     "name": "stdout",
     "output_type": "stream",
     "text": [
      "[['1', 2, 3], 'hello', {'one', 'two'}, 'win', {0: {0: 'one'}}]\n",
      "[['1', 2, 3], 'hello', {'one', 'two'}, 'win', {0: {0: 'two'}}]\n"
     ]
    }
   ],
   "source": [
    "#Modyfying through indexing\n",
    "list1=[[1,2,3],'hello',{'one','two'},(1,2,3),{0:{0:'one'}}]                                    #\n",
    "list1[3]='win'\n",
    "list1[0][0]='1'\n",
    "print(list1)\n",
    "list1[4][0][0]='two'\n",
    "print(list1)"
   ]
  },
  {
   "cell_type": "code",
   "execution_count": 90,
   "id": "f6fdcb92",
   "metadata": {},
   "outputs": [
    {
     "name": "stdout",
     "output_type": "stream",
     "text": [
      "slicing: [{0: {0: 'one'}}, {'two', 'one'}, [1, 2, 3]]\n"
     ]
    }
   ],
   "source": [
    "#slicing\n",
    "list1=[[1,2,3],'hello',{'one','two'},(1,2,3),{0:{0:'one'}}]\n",
    "print('slicing:',list1[::-2])"
   ]
  },
  {
   "cell_type": "code",
   "execution_count": null,
   "id": "f7c58518",
   "metadata": {},
   "outputs": [],
   "source": [
    "##################################################################################################################\n",
    "##################################################################################################################"
   ]
  },
  {
   "cell_type": "code",
   "execution_count": null,
   "id": "63470489",
   "metadata": {},
   "outputs": [],
   "source": [
    "TUPLE"
   ]
  },
  {
   "cell_type": "code",
   "execution_count": 11,
   "id": "6ad76d5b",
   "metadata": {},
   "outputs": [
    {
     "name": "stdout",
     "output_type": "stream",
     "text": [
      "forward indexing: loose\n",
      "reverse indexing: {'win': 'loose'}\n"
     ]
    }
   ],
   "source": [
    "#Indexing\n",
    "tup1=([1,2,3],'hello',{'one','two'},(1,2,3),{0:{1:{'win':'loose'}}})\n",
    "print('forward indexing:',tup1[4][0][1]['win'])\n",
    "print('reverse indexing:',tup1[-1][0][1])\n"
   ]
  },
  {
   "cell_type": "code",
   "execution_count": 13,
   "id": "d1c8286e",
   "metadata": {},
   "outputs": [
    {
     "name": "stdout",
     "output_type": "stream",
     "text": [
      "2\n"
     ]
    }
   ],
   "source": [
    "a=(1,2,3,4,5,(1,2,4))\n",
    "print(a[-1][1])"
   ]
  },
  {
   "cell_type": "code",
   "execution_count": 1,
   "id": "64039e59",
   "metadata": {},
   "outputs": [
    {
     "name": "stdout",
     "output_type": "stream",
     "text": [
      "slicing: loose\n",
      "reverse indexing: ([1, 2, 3], (1, 2, 3))\n"
     ]
    }
   ],
   "source": [
    "#SLICING\n",
    "tup1=([1,2,3],'hello',{'one','two'},(1,2,3),{0:{1:{'win':'loose'}}})\n",
    "print('slicing:',tup1[4][0][1]['win'])\n",
    "print('reverse indexing:',tup1[::3])\n"
   ]
  },
  {
   "cell_type": "code",
   "execution_count": 14,
   "id": "e3f1f60a",
   "metadata": {},
   "outputs": [
    {
     "name": "stdout",
     "output_type": "stream",
     "text": [
      "15\n",
      "1\n",
      "5\n"
     ]
    }
   ],
   "source": [
    "#sum #min #max\n",
    "tup=(1,2,3,4,5)\n",
    "print(sum(tup))\n",
    "print(min(tup))\n",
    "print(max(tup))"
   ]
  },
  {
   "cell_type": "code",
   "execution_count": 16,
   "id": "2c5987f0",
   "metadata": {},
   "outputs": [
    {
     "name": "stdout",
     "output_type": "stream",
     "text": [
      "count: 1\n",
      "index: 4\n"
     ]
    }
   ],
   "source": [
    "tup1=([1,2,3],'hello',{'one','two'},(1,2,3),{0:{1:{'win':'loose'}}})\n",
    "print('count:',tup1.count((1,2,3)))\n",
    "print('index:',tup1.index({0:{1:{'win':'loose'}}}))"
   ]
  },
  {
   "cell_type": "code",
   "execution_count": null,
   "id": "d3558763",
   "metadata": {},
   "outputs": [],
   "source": [
    "###################################################################################################################"
   ]
  },
  {
   "cell_type": "code",
   "execution_count": null,
   "id": "c57265f0",
   "metadata": {},
   "outputs": [],
   "source": [
    "#####################################################################################################################"
   ]
  },
  {
   "cell_type": "code",
   "execution_count": null,
   "id": "6b12733e",
   "metadata": {},
   "outputs": [],
   "source": [
    "SET\n",
    "#Unordered\n",
    "#no dupicates \n",
    "#no indexing"
   ]
  },
  {
   "cell_type": "code",
   "execution_count": 4,
   "id": "50caeba2",
   "metadata": {},
   "outputs": [
    {
     "name": "stdout",
     "output_type": "stream",
     "text": [
      "{False, 1, 8, 9.0, (1, 2, 3), ('come',), '3', (1, 2, 3, 4), '2', '1'}\n"
     ]
    }
   ],
   "source": [
    "set1={(1,2,3,4),1,True,False,8,'1','2','3',(1,2,3),9.0}\n",
    "set1.add(('come',))\n",
    "print(set1)                                                                     #add"
   ]
  },
  {
   "cell_type": "code",
   "execution_count": 7,
   "id": "06034baa",
   "metadata": {},
   "outputs": [
    {
     "name": "stdout",
     "output_type": "stream",
     "text": [
      "{True, '1', 8, 9.0, (1, 2, 3), (1, 2, 3, 4), '3', '2'}\n"
     ]
    }
   ],
   "source": [
    "set1={(1,2,3,4),True,1,False,8,'1','2','3',(1,2,3),9.0}                          #pop\n",
    "set1.pop()\n",
    "print(set1)"
   ]
  },
  {
   "cell_type": "code",
   "execution_count": 7,
   "id": "70706683",
   "metadata": {},
   "outputs": [
    {
     "name": "stdout",
     "output_type": "stream",
     "text": [
      "{False, 8, 9.0, (1, 2, 3), '3', (1, 2, 3, 4), '2', '1'}\n"
     ]
    }
   ],
   "source": [
    "set1={(1,2,3,4),True,1,False,8,'1','2','3',(1,2,3),9.0}\n",
    "set1.remove(True)                                                              #remove\n",
    "print(set1)                                                                     "
   ]
  },
  {
   "cell_type": "code",
   "execution_count": 6,
   "id": "07220b70",
   "metadata": {},
   "outputs": [
    {
     "name": "stdout",
     "output_type": "stream",
     "text": [
      "{False, True, 8, (1, 2, 3), '3', (1, 2, 3, 4), '2', '1'}\n"
     ]
    }
   ],
   "source": [
    "set1={(1,2,3,4),True,1,False,8,'1','2','3',(1,2,3)}\n",
    "set1.discard(10)                                                               #discard\n",
    "print(set1)                        "
   ]
  },
  {
   "cell_type": "code",
   "execution_count": 5,
   "id": "2c1640e1",
   "metadata": {},
   "outputs": [
    {
     "name": "stdout",
     "output_type": "stream",
     "text": [
      "set()\n"
     ]
    }
   ],
   "source": [
    "set1={(1,2,3,4),True,1,False,8,'1','2','3',(1,2,3),9.0}\n",
    "set1.clear()                                                                   #clear()\n",
    "print(set1)"
   ]
  },
  {
   "cell_type": "code",
   "execution_count": 8,
   "id": "18207941",
   "metadata": {},
   "outputs": [
    {
     "ename": "NameError",
     "evalue": "name 'set1' is not defined",
     "output_type": "error",
     "traceback": [
      "\u001b[1;31m---------------------------------------------------------------------------\u001b[0m",
      "\u001b[1;31mNameError\u001b[0m                                 Traceback (most recent call last)",
      "Input \u001b[1;32mIn [8]\u001b[0m, in \u001b[0;36m<cell line: 3>\u001b[1;34m()\u001b[0m\n\u001b[0;32m      1\u001b[0m set1\u001b[38;5;241m=\u001b[39m{(\u001b[38;5;241m1\u001b[39m,\u001b[38;5;241m2\u001b[39m,\u001b[38;5;241m3\u001b[39m),\u001b[38;5;124m'\u001b[39m\u001b[38;5;124m1\u001b[39m\u001b[38;5;124m'\u001b[39m,\u001b[38;5;124m'\u001b[39m\u001b[38;5;124m2\u001b[39m\u001b[38;5;124m'\u001b[39m,\u001b[38;5;28;01mTrue\u001b[39;00m,\u001b[38;5;241m1\u001b[39m,\u001b[38;5;241m1.0\u001b[39m,\u001b[38;5;28;01mFalse\u001b[39;00m,\u001b[38;5;124m'\u001b[39m\u001b[38;5;124mcome\u001b[39m\u001b[38;5;124m'\u001b[39m,\u001b[38;5;124m'\u001b[39m\u001b[38;5;124mgo\u001b[39m\u001b[38;5;124m'\u001b[39m,\u001b[38;5;241m9\u001b[39m}\n\u001b[0;32m      2\u001b[0m \u001b[38;5;28;01mdel\u001b[39;00m set1\n\u001b[1;32m----> 3\u001b[0m \u001b[38;5;28mprint\u001b[39m(\u001b[43mset1\u001b[49m)\n",
      "\u001b[1;31mNameError\u001b[0m: name 'set1' is not defined"
     ]
    }
   ],
   "source": [
    "set1={(1,2,3),'1','2',True,1,1.0,False,'come','go',9}\n",
    "del set1\n",
    "print(set1)"
   ]
  },
  {
   "cell_type": "code",
   "execution_count": 13,
   "id": "dd7bcc5e",
   "metadata": {},
   "outputs": [
    {
     "name": "stdout",
     "output_type": "stream",
     "text": [
      "True\n",
      "False\n"
     ]
    }
   ],
   "source": [
    "a={(1,2,3),'1','2',True,'come'}\n",
    "b={('1','2','3'),'1',(1,2,3),'2',1.0,'come'}                              #issubset\n",
    "print(a.issubset(b))\n",
    "print(b<=a)"
   ]
  },
  {
   "cell_type": "code",
   "execution_count": 1,
   "id": "a05a515e",
   "metadata": {},
   "outputs": [
    {
     "name": "stdout",
     "output_type": "stream",
     "text": [
      "False\n",
      "True\n"
     ]
    }
   ],
   "source": [
    "a={(1,2,3),1,2,3,\"1\",True}\n",
    "b={(1,2,3),1,2,3,\"1\",'2','3'}                                       #issuperset\n",
    "print(a.issuperset(b))\n",
    "print(b>=a)                                                    "
   ]
  },
  {
   "cell_type": "code",
   "execution_count": 2,
   "id": "9a396d14",
   "metadata": {},
   "outputs": [
    {
     "name": "stdout",
     "output_type": "stream",
     "text": [
      "False\n"
     ]
    }
   ],
   "source": [
    "a={'1','2','3',1.0}                                                     #isdisjoint\n",
    "b={(1,),('1','2','3'),True}\n",
    "print(a.isdisjoint(b))"
   ]
  },
  {
   "cell_type": "code",
   "execution_count": 9,
   "id": "c9621f14",
   "metadata": {},
   "outputs": [
    {
     "name": "stdout",
     "output_type": "stream",
     "text": [
      "['1', '2', 'Apple', 'Ball', 'apple']\n"
     ]
    }
   ],
   "source": [
    "set1={'1','2','apple','Ball','Apple'}                                     #sort\n",
    "print(sorted(set1))"
   ]
  },
  {
   "cell_type": "code",
   "execution_count": 5,
   "id": "913a0a8c",
   "metadata": {},
   "outputs": [
    {
     "name": "stdout",
     "output_type": "stream",
     "text": [
      "{False, 1.0, 2, '2', ('win',), 8, 9, 10.0, (1, 2, 3), 'come', '1'}\n",
      "{False, 1.0, 2, '2', ('win',), 8, 9, 10.0, (1, 2, 3), 'come', '1'}\n"
     ]
    }
   ],
   "source": [
    "a={'1','2',1.0,False,'come'}                                              #union\n",
    "b={True,(1,2,3),'1'}\n",
    "c={('win',),8,9,10.0,1}\n",
    "d={True,2}\n",
    "print(a.union(b,c,d))\n",
    "print(a|b|c|d)"
   ]
  },
  {
   "cell_type": "code",
   "execution_count": 6,
   "id": "8564091e",
   "metadata": {},
   "outputs": [
    {
     "name": "stdout",
     "output_type": "stream",
     "text": [
      "{False, True}\n",
      "{0, 1.0, '1', '3', '2', (1, 2, 3)}\n",
      "{False, True}\n"
     ]
    }
   ],
   "source": [
    "a={(1,2,3),'1','2','3',1.0,0}\n",
    "b={('1','2','3'),1,'win',0}\n",
    "c={1,0,2}\n",
    "d={True,False}\n",
    "print(a.intersection(b,c,d))                                             #intersection\n",
    "print(a)\n",
    "a.intersection_update(b,c,d)                                             #intersection_update\n",
    "print(a)"
   ]
  },
  {
   "cell_type": "code",
   "execution_count": 4,
   "id": "adcf7a5b",
   "metadata": {},
   "outputs": [
    {
     "name": "stdout",
     "output_type": "stream",
     "text": [
      "{3, 4, (1, 2, 3)}\n",
      "{10}\n",
      "{2, 10}\n",
      "{10}\n"
     ]
    }
   ],
   "source": [
    "a={(1,2,3),1,2,3,4}\n",
    "b={2,10}\n",
    "c={True,False}                                                               #difference\n",
    "print(a.difference(b,c))\n",
    "print(b.difference(a,c))\n",
    "print(b)\n",
    "b.difference_update(a,c)                                                     #difference update\n",
    "print(b)"
   ]
  },
  {
   "cell_type": "code",
   "execution_count": 7,
   "id": "48c1ecb0",
   "metadata": {},
   "outputs": [
    {
     "name": "stdout",
     "output_type": "stream",
     "text": [
      "{(1, 2, '3'), (1, 2, 3), '1'}\n",
      "{'1', True, 2, 3, (1, 2, 3)}\n",
      "{'1', (1, 2, '3'), (1, 2, 3)}\n"
     ]
    }
   ],
   "source": [
    "a={True,'1',1,2,3,(1,2,3)}\n",
    "b={(1,2,'3'),1,2,3}\n",
    "print(a.symmetric_difference(b))                                         #symmetric_difference\n",
    "print(a)\n",
    "a.symmetric_difference_update(b)                                         #symmetric_difference_update\n",
    "print(a)"
   ]
  },
  {
   "cell_type": "code",
   "execution_count": 92,
   "id": "b45c3250",
   "metadata": {},
   "outputs": [
    {
     "name": "stdout",
     "output_type": "stream",
     "text": [
      "{1, 2, 3, ('win', 'loose'), 'two', 'string', (1, 2, 3), 'one'}\n"
     ]
    }
   ],
   "source": [
    "a={(1,2,3),1,2,3,'one','two'}                                                 #update\n",
    "b=('win','loose'),'string'\n",
    "a.update(b)\n",
    "print(a)"
   ]
  },
  {
   "cell_type": "code",
   "execution_count": 10,
   "id": "1fccc9dc",
   "metadata": {},
   "outputs": [
    {
     "name": "stdout",
     "output_type": "stream",
     "text": [
      "{1, 2, 3, (1,), 'two', (1, 2, 3), 'one'}\n"
     ]
    }
   ],
   "source": [
    "a={(1,2,3),1,2,3,'one','two'}                                                 #update\n",
    "b=[(1,),2]\n",
    "a.update(b)\n",
    "print(a)"
   ]
  },
  {
   "cell_type": "code",
   "execution_count": 8,
   "id": "f61e126c",
   "metadata": {},
   "outputs": [
    {
     "name": "stdout",
     "output_type": "stream",
     "text": [
      "{1, 2, 3, 7, 'two', 8, 9, (1, 2, 3), (7,), 'one'}\n"
     ]
    }
   ],
   "source": [
    "a={(1,2,3),1,2,3,'one','two',7}                                                 #update\n",
    "b={(7,),8,9}\n",
    "a.update(b)\n",
    "print(a)"
   ]
  },
  {
   "cell_type": "code",
   "execution_count": 94,
   "id": "d5b0322f",
   "metadata": {},
   "outputs": [
    {
     "name": "stdout",
     "output_type": "stream",
     "text": [
      "{1, 2, 3, '1', 'two', (1, 2, 3), 'one'}\n"
     ]
    }
   ],
   "source": [
    "a={(1,2,3),1,2,3,'one','two'}                                                 #update\n",
    "a.update(['1'])\n",
    "print(a)"
   ]
  },
  {
   "cell_type": "code",
   "execution_count": 9,
   "id": "7f3d9453",
   "metadata": {},
   "outputs": [
    {
     "name": "stdout",
     "output_type": "stream",
     "text": [
      "{1, 2, 3, 'two', (1, 2, 3), 'one'}\n"
     ]
    }
   ],
   "source": [
    "a={(1,2,3),1,2,3,'one','two'}                                                 #update\n",
    "a.update({True:False})\n",
    "print(a)"
   ]
  },
  {
   "cell_type": "code",
   "execution_count": null,
   "id": "a096d249",
   "metadata": {},
   "outputs": [],
   "source": [
    "###########################################################################################################################"
   ]
  },
  {
   "cell_type": "code",
   "execution_count": null,
   "id": "a3f5d63c",
   "metadata": {},
   "outputs": [],
   "source": [
    "##########################################################################################################################"
   ]
  },
  {
   "cell_type": "code",
   "execution_count": null,
   "id": "52141686",
   "metadata": {},
   "outputs": [],
   "source": [
    "DICTIONARY"
   ]
  },
  {
   "cell_type": "code",
   "execution_count": 1,
   "id": "575bfc60",
   "metadata": {},
   "outputs": [
    {
     "name": "stdout",
     "output_type": "stream",
     "text": [
      "dict_keys([(1, 2, 3), False, (1, 2, 3, 4), 9, 'string', (0,)])\n",
      "dict_values([[1, 2, 3], 1, {1, 2, 3}, {1: {2: {3: 4}}}, 'string', ([1], {2}, {'o': {'p': 'c'}})])\n",
      "dict_items([((1, 2, 3), [1, 2, 3]), (False, 1), ((1, 2, 3, 4), {1, 2, 3}), (9, {1: {2: {3: 4}}}), ('string', 'string'), ((0,), ([1], {2}, {'o': {'p': 'c'}}))])\n",
      "6\n",
      "([1], {2}, {'o': {'p': 'c'}})\n"
     ]
    }
   ],
   "source": [
    "a={(1,2,3):[1,2,3],False:True,0:1,(1,2,3,4):{1,2,3},9:{1:{2:{3:4}}},'string':'string',(0,):([1],{2},{'o':{'p':'c'}})}\n",
    "print(a.keys())\n",
    "print(a.values())\n",
    "print(a.items())\n",
    "print(len(a))\n",
    "print(a.get((0,)))"
   ]
  },
  {
   "cell_type": "code",
   "execution_count": 3,
   "id": "9522bec0",
   "metadata": {},
   "outputs": [
    {
     "name": "stdout",
     "output_type": "stream",
     "text": [
      "{(1, 2, 3): [1, 2, 3], False: 1, (1, 2, 3, 4): {1, 2, 3}, 9: {1: {2: {3: 4}}}, 'string': 'string'}\n"
     ]
    }
   ],
   "source": [
    "a={(1,2,3):[1,2,3],False:True,0:1,(1,2,3,4):{1,2,3},9:{1:{2:{3:4}}},'string':'string',(0,):([1],{2},{'o':{'p':'c'}})}  #pop\n",
    "a.pop((0,))\n",
    "print(a)"
   ]
  },
  {
   "cell_type": "code",
   "execution_count": 1,
   "id": "a90ab276",
   "metadata": {},
   "outputs": [
    {
     "name": "stdout",
     "output_type": "stream",
     "text": [
      "{(1, 2, 3): [1, 2, 3], False: 1, (1, 2, 3, 4): {1, 2, 3}, 9: {1: {2: {3: 4}}}, 'string': 'string'}\n"
     ]
    }
   ],
   "source": [
    "a={(1,2,3):[1,2,3],False:True,0:1,(1,2,3,4):{1,2,3},9:{1:{2:{3:4}}},'string':'string',(0,):([1],{2},{'o':{'p':'c'}})}  #popitem\n",
    "a.popitem()\n",
    "print(a)"
   ]
  },
  {
   "cell_type": "code",
   "execution_count": 5,
   "id": "f7861bed",
   "metadata": {},
   "outputs": [
    {
     "name": "stdout",
     "output_type": "stream",
     "text": [
      "{}\n"
     ]
    }
   ],
   "source": [
    "a={(1,2,3):[1,2,3],False:True,0:1,(1,2,3,4):{1,2,3},9:{1:{2:{3:4}}},'string':'string',(0,):([1],{2},{'o':{'p':'c'}})}  #clear()\n",
    "a.clear()\n",
    "print(a)"
   ]
  },
  {
   "cell_type": "code",
   "execution_count": 5,
   "id": "c071bd60",
   "metadata": {},
   "outputs": [
    {
     "name": "stdout",
     "output_type": "stream",
     "text": [
      "{(1, 2, 3, 4): {1, 2, 3}, 'string': 'string'}\n"
     ]
    }
   ],
   "source": [
    "a={(1,2,3):[1,2,3],False:True,0:1,(1,2,3,4):{1,2,3},9:{1:{2:{3:4}}},'string':'string',(0,):([1],{2},{'o':{'p':'c'}})}  #del\n",
    "del a[(1,2,3)],a[9],a[(0,)],a[0]\n",
    "print(a)"
   ]
  },
  {
   "cell_type": "code",
   "execution_count": 34,
   "id": "76f8641c",
   "metadata": {},
   "outputs": [
    {
     "name": "stdout",
     "output_type": "stream",
     "text": [
      "{(1, 2, 3): [1, 2, 3, 4], True: 0, 2.0: 3.0, 'come': {'go', 'when'}, 0: {1: {2: {3: 4}}}, 'akash': 'vikash'}\n"
     ]
    }
   ],
   "source": [
    "a={(1,2,3):[1,2,3],False:True,0:1,(1,2,3,4):{1,2,3},9:{1:{2:{3:4}}},'string':'string',(0,):([1],{2},{'o':{'p':'c'}})} #copy()\n",
    "b=a.copy()\n",
    "print(b)"
   ]
  },
  {
   "cell_type": "code",
   "execution_count": 37,
   "id": "f4950411",
   "metadata": {},
   "outputs": [
    {
     "name": "stdout",
     "output_type": "stream",
     "text": [
      "{1: {'one', (1, 2)}, 2: {'one', (1, 2)}, 3: {'one', (1, 2)}, 7: {'one', (1, 2)}}\n"
     ]
    }
   ],
   "source": [
    "a=(1,2,3,7)\n",
    "b={'one',(1,2)}\n",
    "c=dict.fromkeys(a,b)                                                                                   #fromkeys\n",
    "print(c)"
   ]
  },
  {
   "cell_type": "code",
   "execution_count": 8,
   "id": "54297b0d",
   "metadata": {},
   "outputs": [
    {
     "name": "stdout",
     "output_type": "stream",
     "text": [
      "{0: ({5}, 9, (7,), {8: 9}), 1: ({5}, 9, (7,), {8: 9}), 2: ({5}, 9, (7,), {8: 9}), 3: ({5}, 9, (7,), {8: 9})}\n"
     ]
    }
   ],
   "source": [
    "a=range(0,4)                                                                                          #fromkeys\n",
    "b=({5},9,(7,),{8:9})\n",
    "print(dict.fromkeys(a,b))"
   ]
  },
  {
   "cell_type": "code",
   "execution_count": 9,
   "id": "26a6e9a5",
   "metadata": {},
   "outputs": [
    {
     "name": "stdout",
     "output_type": "stream",
     "text": [
      "{0: (1, 2, 3, 4), 1: (1, 2, 3, 4), 2: (1, 2, 3, 4), 3: (1, 2, 3, 4), 4: (1, 2, 3, 4)}\n"
     ]
    }
   ],
   "source": [
    "a=range(0,5)\n",
    "b=1,2,3,4\n",
    "c=dict.fromkeys(a,b)                                                                                    #fromkeys\n",
    "print(c)"
   ]
  },
  {
   "cell_type": "code",
   "execution_count": 24,
   "id": "f7166835",
   "metadata": {},
   "outputs": [
    {
     "name": "stdout",
     "output_type": "stream",
     "text": [
      "{0: (['win'], ['loose']), 1: (['win'], ['loose']), 2: (['win'], ['loose']), 3: (['win'], ['loose']), 4: (['win'], ['loose'])}\n"
     ]
    },
    {
     "data": {
      "text/plain": [
       "tuple"
      ]
     },
     "execution_count": 24,
     "metadata": {},
     "output_type": "execute_result"
    }
   ],
   "source": [
    "a={0:'zero',1:'one',2:'two',3:'three',4:'four'} \n",
    "b=['win'],['loose']\n",
    "c=dict.fromkeys(a,b)\n",
    "print(c)                                                                                              #fromkeys\n",
    "type(b)"
   ]
  },
  {
   "cell_type": "code",
   "execution_count": 38,
   "id": "0708c8b1",
   "metadata": {},
   "outputs": [
    {
     "name": "stdout",
     "output_type": "stream",
     "text": [
      "{10: [[1], 2, 3], 9: [[1], 2, 3]}\n"
     ]
    }
   ],
   "source": [
    "a={10:11,9:0}                                                                                         #fromkeys\n",
    "b=[[1],2,3]\n",
    "print(dict.fromkeys(a,b))"
   ]
  },
  {
   "cell_type": "code",
   "execution_count": 36,
   "id": "51625334",
   "metadata": {},
   "outputs": [
    {
     "name": "stdout",
     "output_type": "stream",
     "text": [
      "{(1, 2, 3): [1, 2, 3, 4], True: 0, 2.0: 3.0, 'come': {'go', 'when'}, 0: {1: {2: {3: 4}}}, 'akash': 'vikash', 10: None}\n"
     ]
    }
   ],
   "source": [
    "a={(1,2,3):[1,2,3,4],True:False,1:0,2.0:3.0,'come':{'go','when'},0:{1:{2:{3:4}}},'akash':'vikash'}   #setdefault\n",
    "a.setdefault(10)\n",
    "print(a)"
   ]
  },
  {
   "cell_type": "code",
   "execution_count": 3,
   "id": "4d8d8253",
   "metadata": {},
   "outputs": [
    {
     "ename": "TypeError",
     "evalue": "cannot convert dictionary update sequence element #0 to a sequence",
     "output_type": "error",
     "traceback": [
      "\u001b[1;31m---------------------------------------------------------------------------\u001b[0m",
      "\u001b[1;31mTypeError\u001b[0m                                 Traceback (most recent call last)",
      "Input \u001b[1;32mIn [3]\u001b[0m, in \u001b[0;36m<cell line: 3>\u001b[1;34m()\u001b[0m\n\u001b[0;32m      1\u001b[0m a\u001b[38;5;241m=\u001b[39m{\u001b[38;5;241m0\u001b[39m:\u001b[38;5;124m'\u001b[39m\u001b[38;5;124mzero\u001b[39m\u001b[38;5;124m'\u001b[39m,\u001b[38;5;241m1\u001b[39m:\u001b[38;5;124m'\u001b[39m\u001b[38;5;124mone\u001b[39m\u001b[38;5;124m'\u001b[39m,\u001b[38;5;241m2\u001b[39m:\u001b[38;5;124m'\u001b[39m\u001b[38;5;124mtwo\u001b[39m\u001b[38;5;124m'\u001b[39m,\u001b[38;5;241m3\u001b[39m:\u001b[38;5;124m'\u001b[39m\u001b[38;5;124mthree\u001b[39m\u001b[38;5;124m'\u001b[39m,\u001b[38;5;241m4\u001b[39m:\u001b[38;5;124m'\u001b[39m\u001b[38;5;124mfour\u001b[39m\u001b[38;5;124m'\u001b[39m}\n\u001b[0;32m      2\u001b[0m b\u001b[38;5;241m=\u001b[39m(\u001b[38;5;241m5\u001b[39m,\u001b[38;5;124m'\u001b[39m\u001b[38;5;124msix\u001b[39m\u001b[38;5;124m'\u001b[39m)                                                                \u001b[38;5;66;03m#update\u001b[39;00m\n\u001b[1;32m----> 3\u001b[0m \u001b[43ma\u001b[49m\u001b[38;5;241;43m.\u001b[39;49m\u001b[43mupdate\u001b[49m\u001b[43m(\u001b[49m\u001b[43mb\u001b[49m\u001b[43m)\u001b[49m\n\u001b[0;32m      4\u001b[0m \u001b[38;5;28mprint\u001b[39m(a)\n",
      "\u001b[1;31mTypeError\u001b[0m: cannot convert dictionary update sequence element #0 to a sequence"
     ]
    }
   ],
   "source": [
    "a={0:'zero',1:'one',2:'two',3:'three',4:'four'}\n",
    "b=(5,'six')                                                                #update\n",
    "a.update(b)\n",
    "print(a)"
   ]
  },
  {
   "cell_type": "code",
   "execution_count": 1,
   "id": "d316e45a",
   "metadata": {},
   "outputs": [
    {
     "name": "stdout",
     "output_type": "stream",
     "text": [
      "{}\n",
      "{1: 'ok'}\n"
     ]
    }
   ],
   "source": [
    "a={}\n",
    "print(a)\n",
    "a[1]='ok'\n",
    "print(a)"
   ]
  },
  {
   "cell_type": "code",
   "execution_count": 9,
   "id": "4977597f",
   "metadata": {},
   "outputs": [
    {
     "name": "stdout",
     "output_type": "stream",
     "text": [
      "{(1, 2, 3): [1, 2, 3], False: 1, (1, 2, 3, 4): {1, 2, 3}, 9: {1: {2: {3: 4}}}, 'string': 'string', (0,): ([1], {2}, {'o': {'p': 'c'}}), 78: 89}\n"
     ]
    }
   ],
   "source": [
    "a={(1,2,3):[1,2,3],False:True,0:1,(1,2,3,4):{1,2,3},9:{1:{2:{3:4}}},'string':'string',(0,):([1],{2},{'o':{'p':'c'}})}  #update\n",
    "\n",
    "a.update({78:89})\n",
    "print(a)"
   ]
  },
  {
   "cell_type": "code",
   "execution_count": 6,
   "id": "6b0ebf03",
   "metadata": {},
   "outputs": [
    {
     "name": "stdout",
     "output_type": "stream",
     "text": [
      "{(1, 2, 3): ('1', '2', '3'), True: False, 0: {1: {2: {3: 4}}}, '<': {1, 2, 3}, 'come': 'go', 9: 8, 'a': 1}\n"
     ]
    }
   ],
   "source": [
    "a={(1,2,3):('1','2','3'),True:False,0:{1:{2:{3:4}}},\"<\":{1,2,3},'come':'go',9:8}              #update\n",
    "a.update(a=1)\n",
    "print(a)"
   ]
  },
  {
   "cell_type": "code",
   "execution_count": 4,
   "id": "7af3cc4c",
   "metadata": {},
   "outputs": [
    {
     "name": "stdout",
     "output_type": "stream",
     "text": [
      "{(8, 9): 1, 7: 2}\n"
     ]
    }
   ],
   "source": [
    "#using dict function\n",
    "a={(8,9),7,'come'}\n",
    "b={1,2}\n",
    "print(dict(zip(a,b)))"
   ]
  },
  {
   "cell_type": "code",
   "execution_count": 40,
   "id": "8d602598",
   "metadata": {},
   "outputs": [
    {
     "name": "stdout",
     "output_type": "stream",
     "text": [
      "{1: 'one', 2: 'four', 3: 'two', 4: 'three'}\n"
     ]
    }
   ],
   "source": [
    "a=(1,2,3,4)\n",
    "b={'one','two','three','four'}                                         \n",
    "print(dict(zip(a,b)))"
   ]
  },
  {
   "cell_type": "code",
   "execution_count": 41,
   "id": "0ca62396",
   "metadata": {},
   "outputs": [
    {
     "name": "stdout",
     "output_type": "stream",
     "text": [
      "{1: 'one', 2: 'two', 3: 'three', 4: ['four']}\n"
     ]
    }
   ],
   "source": [
    "a=(1,2,3,4)\n",
    "b=['one','two','three',['four']]                                         \n",
    "print(dict(zip(a,b)))"
   ]
  },
  {
   "cell_type": "code",
   "execution_count": 17,
   "id": "34e01319",
   "metadata": {},
   "outputs": [
    {
     "name": "stdout",
     "output_type": "stream",
     "text": [
      "{'a': 1, 'b': 1}\n"
     ]
    }
   ],
   "source": [
    "print(dict(a=1,b=1))                                    #using keyword"
   ]
  },
  {
   "cell_type": "code",
   "execution_count": 22,
   "id": "b46db9e4",
   "metadata": {},
   "outputs": [
    {
     "name": "stdout",
     "output_type": "stream",
     "text": [
      "{9: 0, 5: 6, 'a': 1}\n"
     ]
    }
   ],
   "source": [
    "print(dict({(5,6),(9,0)},a=1))"
   ]
  },
  {
   "cell_type": "code",
   "execution_count": 4,
   "id": "3addc43d",
   "metadata": {
    "scrolled": true
   },
   "outputs": [
    {
     "ename": "SyntaxError",
     "evalue": "positional argument follows keyword argument (3249196435.py, line 1)",
     "output_type": "error",
     "traceback": [
      "\u001b[1;36m  Input \u001b[1;32mIn [4]\u001b[1;36m\u001b[0m\n\u001b[1;33m    print(dict(a=1,{(5,6),(9,0)}))\u001b[0m\n\u001b[1;37m                                ^\u001b[0m\n\u001b[1;31mSyntaxError\u001b[0m\u001b[1;31m:\u001b[0m positional argument follows keyword argument\n"
     ]
    }
   ],
   "source": [
    "print(dict(a=1,{(5,6),(9,0)}))"
   ]
  },
  {
   "cell_type": "code",
   "execution_count": null,
   "id": "125a65e7",
   "metadata": {},
   "outputs": [],
   "source": [
    "#############################################################################################################################\n",
    "#############################################################################################################################"
   ]
  },
  {
   "cell_type": "code",
   "execution_count": 1,
   "id": "fc8b6a58",
   "metadata": {},
   "outputs": [
    {
     "name": "stdout",
     "output_type": "stream",
     "text": [
      "((10, 60), (20, 70), (30, 80))\n"
     ]
    }
   ],
   "source": [
    "#zip function\n",
    "#joins two or more iterable elements and returns an iterator object and forms tuple\n",
    "a=[10,20,30,40]\n",
    "b=[60,70,80]\n",
    "print(tuple(zip(a,b)))"
   ]
  },
  {
   "cell_type": "code",
   "execution_count": 1,
   "id": "be15a7ff",
   "metadata": {},
   "outputs": [
    {
     "name": "stdout",
     "output_type": "stream",
     "text": [
      "[2, 3, 4, 5, 6, 7, 8]\n",
      "[]\n",
      "[2]\n",
      "[]\n"
     ]
    }
   ],
   "source": [
    "a=[1,2,3,4,5,6,7,8,9,10]\n",
    "print(a[1:8:])\n",
    "\n",
    "print(a[-1:8:])\n",
    "\n",
    "print(a[1:-8:])\n",
    "\n",
    "print(a[-1:-8:])"
   ]
  },
  {
   "cell_type": "code",
   "execution_count": 2,
   "id": "05f631a5",
   "metadata": {},
   "outputs": [
    {
     "name": "stdout",
     "output_type": "stream",
     "text": [
      "[]\n",
      "[10]\n",
      "[]\n",
      "[10, 9, 8, 7, 6, 5, 4]\n"
     ]
    }
   ],
   "source": [
    "a=[1,2,3,4,5,6,7,8,9,10]\n",
    "print(a[1:8:-1])\n",
    "\n",
    "print(a[-1:8:-1])\n",
    "\n",
    "print(a[1:-8:-1])\n",
    "\n",
    "print(a[-1:-8:-1])"
   ]
  },
  {
   "cell_type": "code",
   "execution_count": null,
   "id": "b9c8480a",
   "metadata": {},
   "outputs": [],
   "source": [
    "######################################################################################################################\n",
    "#####################################################################################################################"
   ]
  },
  {
   "cell_type": "code",
   "execution_count": 5,
   "id": "3a93f45f",
   "metadata": {},
   "outputs": [
    {
     "name": "stdout",
     "output_type": "stream",
     "text": [
      "1\n",
      "[2, 3, 8]\n",
      "10\n"
     ]
    }
   ],
   "source": [
    "#unpacking- to unpack we need to have that much variable to store if not it will throw error\n",
    "#extracting a values from list/tuple storing that in varibale\n",
    "\n",
    "a,*b,c=[1,2,3,8,10]\n",
    "print(a)\n",
    "print(b)\n",
    "print(c)\n"
   ]
  },
  {
   "cell_type": "code",
   "execution_count": 7,
   "id": "6bcaeeae",
   "metadata": {},
   "outputs": [
    {
     "name": "stdout",
     "output_type": "stream",
     "text": [
      "1 2 3 4\n"
     ]
    }
   ],
   "source": [
    "# A sample function that takes 4 arguments\n",
    "# and prints the,\n",
    "def fun(a, b, c, d):\n",
    "\tprint(a, b, c, d)\n",
    "\n",
    "# Driver Code\n",
    "my_list = [1, 2, 3, 4]\n",
    "\n",
    "# Unpacking list into four arguments\n",
    "fun(*my_list)\n"
   ]
  },
  {
   "cell_type": "code",
   "execution_count": 9,
   "id": "7573ffb9",
   "metadata": {},
   "outputs": [
    {
     "name": "stdout",
     "output_type": "stream",
     "text": [
      "(1, 2, 3)\n"
     ]
    }
   ],
   "source": [
    "#packing\n",
    "\n",
    "def abc(*a):\n",
    "    print(a)\n",
    "    \n",
    "abc(1,2,3)"
   ]
  },
  {
   "cell_type": "code",
   "execution_count": null,
   "id": "19452f56",
   "metadata": {},
   "outputs": [],
   "source": []
  }
 ],
 "metadata": {
  "kernelspec": {
   "display_name": "Python 3 (ipykernel)",
   "language": "python",
   "name": "python3"
  },
  "language_info": {
   "codemirror_mode": {
    "name": "ipython",
    "version": 3
   },
   "file_extension": ".py",
   "mimetype": "text/x-python",
   "name": "python",
   "nbconvert_exporter": "python",
   "pygments_lexer": "ipython3",
   "version": "3.9.12"
  }
 },
 "nbformat": 4,
 "nbformat_minor": 5
}
