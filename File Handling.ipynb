{
 "cells": [
  {
   "cell_type": "code",
   "execution_count": null,
   "id": "bf8b1dc2",
   "metadata": {},
   "outputs": [],
   "source": [
    "#creating a new file\n",
    "myfile= open(\"newfile\",\"x\")"
   ]
  },
  {
   "cell_type": "code",
   "execution_count": 3,
   "id": "49cbea63",
   "metadata": {},
   "outputs": [
    {
     "name": "stdout",
     "output_type": "stream",
     "text": [
      "My name is akash\n",
      "im bad boy  \n",
      "how are you\n",
      "im interested in big data \n",
      "im learning that \n",
      "\n",
      "\n"
     ]
    }
   ],
   "source": [
    "#File Handling\n",
    "#To open a file\n",
    "#read()\n",
    "\n",
    "var=open('top','rt') #first it will open the file with deafault read mode and we can't use only t because it will throw error\n",
    "print(var.read())  # beacuse first it will start with any read,write mode \n",
    "\n",
    "\n",
    "#suppose if you again try to print it will come once only beacuse already once it is readed again it wont read\n",
    "#if you want to again read then you need open it again\n",
    "print(var.read())  \n",
    "var.close()"
   ]
  },
  {
   "cell_type": "code",
   "execution_count": 5,
   "id": "296d9835",
   "metadata": {},
   "outputs": [
    {
     "name": "stdout",
     "output_type": "stream",
     "text": [
      "b'My name is akash\\nim bad boy  \\nhow are you\\nim interested in big data \\nim learning that \\n'\n"
     ]
    }
   ],
   "source": [
    "#binary mode \n",
    "var=open('top','rb') \n",
    "print(var.read())  \n",
    "var.close()\n"
   ]
  },
  {
   "cell_type": "code",
   "execution_count": 6,
   "id": "e13ed74e",
   "metadata": {},
   "outputs": [
    {
     "name": "stdout",
     "output_type": "stream",
     "text": [
      "My name is akash\n",
      "im bad boy  \n",
      "\n"
     ]
    }
   ],
   "source": [
    "#readline\n",
    "\n",
    "var=open('top','rt') \n",
    "#it prints one line  and if we give any number in arguement\n",
    "print(var.readline(),end='')\n",
    "#print(var,end='') \n",
    "print(var.readline())\n",
    "var.close()\n"
   ]
  },
  {
   "cell_type": "code",
   "execution_count": 16,
   "id": "4a47aa86",
   "metadata": {},
   "outputs": [
    {
     "name": "stdout",
     "output_type": "stream",
     "text": [
      "['My name is akash\\n', 'im bad boy  \\n', 'how are you\\n', 'im interested in big data \\n', 'im learning that \\n']\n"
     ]
    }
   ],
   "source": [
    "#readlines \n",
    "var=open('top','rt') \n",
    "print(var.readlines())\n",
    "var.close()"
   ]
  },
  {
   "cell_type": "code",
   "execution_count": 8,
   "id": "b0847242",
   "metadata": {},
   "outputs": [
    {
     "name": "stdout",
     "output_type": "stream",
     "text": [
      "My name is akash\n",
      "\n",
      "im bad boy  \n",
      "\n",
      "how are you\n",
      "\n",
      "im interested in big data \n",
      "\n",
      "im learning that \n",
      "\n"
     ]
    }
   ],
   "source": [
    "#printing through for loop\n",
    "var=open('top')\n",
    "\n",
    "for x in var:\n",
    "    print(x)\n",
    "var.close()"
   ]
  },
  {
   "cell_type": "code",
   "execution_count": null,
   "id": "3e723ba7",
   "metadata": {},
   "outputs": [],
   "source": [
    "#########################################################################################################################\n",
    "########################################################################################################################"
   ]
  },
  {
   "cell_type": "code",
   "execution_count": 8,
   "id": "a91ad12b",
   "metadata": {},
   "outputs": [],
   "source": [
    "#write \n",
    "\n",
    "#overwrites enitre file\n",
    "#when your opening file in write mode it can only write not read\n",
    "\n",
    "\n",
    "f=open('new_one','w')\n",
    "f.write('I like big data \\n') # suppose if your again trying to write it ,it will erase previous content and add the new content\n",
    "f.write('But im still learning it')\n",
    "f.close()\n",
    "\n",
    "\n",
    "#for write and append -it will be in buffer then it write in the file \n",
    "#for read - from file it will be in buffer and go to output "
   ]
  },
  {
   "cell_type": "code",
   "execution_count": 12,
   "id": "66bc9ca6",
   "metadata": {},
   "outputs": [],
   "source": [
    "#writelines\n",
    "\n",
    "f1=open('one_file','w')\n",
    "f2=['hi\\n','how are you\\n']\n",
    "f1.writelines(f2)\n",
    "f1.close()"
   ]
  },
  {
   "cell_type": "code",
   "execution_count": 23,
   "id": "f8484475",
   "metadata": {},
   "outputs": [],
   "source": [
    "#append \n",
    "\n",
    "#file pointer at last if file is not there file pointer will be at begining\n",
    "\n",
    "\n",
    "f=open('new_one','a')\n",
    "f.write('I like  data ') #it adds at last\n",
    "f.close()\n"
   ]
  },
  {
   "cell_type": "code",
   "execution_count": null,
   "id": "106fb57e",
   "metadata": {},
   "outputs": [],
   "source": [
    "#############################################################################################################################\n",
    "###########################################################################################################################"
   ]
  },
  {
   "cell_type": "code",
   "execution_count": 14,
   "id": "285cf38c",
   "metadata": {},
   "outputs": [
    {
     "name": "stdout",
     "output_type": "stream",
     "text": [
      "0\n",
      "I like big data\n",
      "\n",
      "But im still learning it\n",
      "\n",
      "43\n"
     ]
    }
   ],
   "source": [
    "#tell\n",
    "\n",
    "f=open('new_one')\n",
    "print(f.tell())\n",
    "print(f.readline())\n",
    "print(f.readline())\n",
    "print(f.tell()) #it tells where file pointer it is at which position\n",
    "f.close()"
   ]
  },
  {
   "cell_type": "code",
   "execution_count": 16,
   "id": "2b12b355",
   "metadata": {},
   "outputs": [
    {
     "name": "stdout",
     "output_type": "stream",
     "text": [
      "I like big data\n",
      "\n",
      "0\n",
      "I like big data\n",
      "\n"
     ]
    }
   ],
   "source": [
    "#seek\n",
    "\n",
    "f=open('new_one')\n",
    "print(f.readline()) \n",
    "print(f.seek(0)) #sending the file pointer to starting place by giving zero\n",
    "print(f.readline())"
   ]
  },
  {
   "cell_type": "code",
   "execution_count": 20,
   "id": "0e118f98",
   "metadata": {},
   "outputs": [
    {
     "name": "stdout",
     "output_type": "stream",
     "text": [
      "with block \n",
      "\n",
      "with block \n",
      "\n"
     ]
    }
   ],
   "source": [
    "#with\n",
    "with open ('bottom') as f: # it opens file with f as pointer\n",
    "    print(f.readline())\n",
    "    f.close()               #but if we come outside the block automatically file closes \n",
    "f=open('bottom')\n",
    "print(f.readline())\n",
    "f.close()"
   ]
  },
  {
   "cell_type": "code",
   "execution_count": null,
   "id": "797b8550",
   "metadata": {},
   "outputs": [],
   "source": [
    "##############################################################################################################################\n",
    "##############################################################################################################################"
   ]
  },
  {
   "cell_type": "code",
   "execution_count": 30,
   "id": "6c0773c6",
   "metadata": {},
   "outputs": [
    {
     "name": "stdout",
     "output_type": "stream",
     "text": [
      "16\n",
      "25\n",
      "12\n"
     ]
    }
   ],
   "source": [
    "\n",
    "#copy from one file to another \n",
    "f=open('new_one','r')\n",
    "Fs=open('second_one','w')\n",
    "\n",
    "for x in f:\n",
    "    print(Fs.write(x))\n"
   ]
  },
  {
   "cell_type": "code",
   "execution_count": 31,
   "id": "1bd7f50f",
   "metadata": {},
   "outputs": [
    {
     "name": "stdout",
     "output_type": "stream",
     "text": [
      "I like big data\n",
      "But im still learning it\n",
      "I like data \n"
     ]
    }
   ],
   "source": [
    "Fs=open('second_one','r')\n",
    "print(Fs.read())\n"
   ]
  },
  {
   "cell_type": "code",
   "execution_count": null,
   "id": "25ecf4a3",
   "metadata": {},
   "outputs": [],
   "source": [
    "##########################################################################################################################\n",
    "##########################################################################################################################"
   ]
  },
  {
   "cell_type": "code",
   "execution_count": 31,
   "id": "d16afd45",
   "metadata": {},
   "outputs": [
    {
     "name": "stdout",
     "output_type": "stream",
     "text": [
      "hi\n",
      "yeah im fine\n"
     ]
    }
   ],
   "source": [
    "#r+  doesnot create any file  \n",
    "#pointer will be at the begining \n",
    "#it wont erase previous content like w mode\n",
    "#you can do read and write at a time in r+\n",
    "#mainly always here first we need to read and then write then only after reading pointer will go at last \n",
    "\n",
    "\n",
    "f1=open('practisee','r+')\n",
    "print(f1.read())\n",
    "f1.write('\\nyeah im fine')\n",
    "print(f1.read())\n",
    "f1.close()\n",
    "\n",
    "\n",
    "\n"
   ]
  },
  {
   "cell_type": "code",
   "execution_count": 34,
   "id": "48c37bb8",
   "metadata": {},
   "outputs": [
    {
     "name": "stdout",
     "output_type": "stream",
     "text": [
      "0\n",
      "2\n",
      "0\n",
      "hi\n"
     ]
    }
   ],
   "source": [
    "#W+ same like w mode first write and read \n",
    "\n",
    "f=open('w_plus','w+')\n",
    "print(f.tell())\n",
    "print(f.write('hi'))\n",
    "print(f.seek(0))\n",
    "print(f.read())\n",
    "f.close()"
   ]
  },
  {
   "cell_type": "code",
   "execution_count": null,
   "id": "f7c198c6",
   "metadata": {},
   "outputs": [],
   "source": [
    "#a+ you can append and read cursor will be at last move it firt by seek"
   ]
  },
  {
   "cell_type": "code",
   "execution_count": null,
   "id": "0e87bfa2",
   "metadata": {},
   "outputs": [],
   "source": [
    "#############################################################################################################################"
   ]
  },
  {
   "cell_type": "code",
   "execution_count": 18,
   "id": "c29ec315",
   "metadata": {},
   "outputs": [
    {
     "name": "stdout",
     "output_type": "stream",
     "text": [
      "0\n",
      "15\n",
      "okok\n",
      "\n",
      "welcome to homeokokok\n"
     ]
    }
   ],
   "source": [
    "f2=open('tell','r+')\n",
    "print(f2.tell())\n",
    "f2.write('welcome to home')\n",
    "print(f2.tell())\n",
    "print(f2.read())#beacue \n",
    "f2.write('ok')\n",
    "print(f2.read())\n",
    "f2=open('tell','r+')\n",
    "print(f2.read())"
   ]
  }
 ],
 "metadata": {
  "kernelspec": {
   "display_name": "Python 3 (ipykernel)",
   "language": "python",
   "name": "python3"
  },
  "language_info": {
   "codemirror_mode": {
    "name": "ipython",
    "version": 3
   },
   "file_extension": ".py",
   "mimetype": "text/x-python",
   "name": "python",
   "nbconvert_exporter": "python",
   "pygments_lexer": "ipython3",
   "version": "3.9.12"
  }
 },
 "nbformat": 4,
 "nbformat_minor": 5
}
