{
 "cells": [
  {
   "cell_type": "code",
   "execution_count": null,
   "id": "a693e900",
   "metadata": {},
   "outputs": [],
   "source": [
    "#for loops\n",
    "#it normally works with sequence\n",
    "#syntax\n",
    "for iterating_variable in sequence:\n",
    "    print(iterating_variable)"
   ]
  },
  {
   "cell_type": "code",
   "execution_count": 10,
   "id": "8f5b154f",
   "metadata": {},
   "outputs": [
    {
     "name": "stdout",
     "output_type": "stream",
     "text": [
      "h\n",
      "s\n",
      "a\n",
      "k\n",
      "a\n"
     ]
    }
   ],
   "source": [
    "#sample programme\n",
    "\n",
    "name='akash'\n",
    "\n",
    "for i in name[::-1]:\n",
    "    print(i)\n"
   ]
  },
  {
   "cell_type": "code",
   "execution_count": 2,
   "id": "39b198b7",
   "metadata": {},
   "outputs": [
    {
     "name": "stdout",
     "output_type": "stream",
     "text": [
      "1 one\n",
      "2 two\n"
     ]
    }
   ],
   "source": [
    "a={1:'one',2:'two'}\n",
    "for x,y in a.items():\n",
    "    print(x,y)"
   ]
  },
  {
   "cell_type": "code",
   "execution_count": 15,
   "id": "9c2b38f3",
   "metadata": {},
   "outputs": [
    {
     "name": "stdout",
     "output_type": "stream",
     "text": [
      "number found 40 3\n"
     ]
    }
   ],
   "source": [
    "#simple programm\n",
    "a=[10,20,30,40,50,80,70,100,40]\n",
    "\n",
    "x=40\n",
    "indx=0\n",
    "\n",
    "for i in a:\n",
    "    if i==x:\n",
    "        print('number found',x,indx)\n",
    "        break #------>it will break the loop and go outside\n",
    "    indx+=1#----------->it is not inside if block\n",
    "        \n",
    "        "
   ]
  },
  {
   "cell_type": "code",
   "execution_count": 15,
   "id": "171b6f61",
   "metadata": {},
   "outputs": [
    {
     "name": "stdout",
     "output_type": "stream",
     "text": [
      "car bat "
     ]
    }
   ],
   "source": [
    "a= ['car','bat']\n",
    "for x in range(len(a)):\n",
    "    print(a[x],end=' ')"
   ]
  },
  {
   "cell_type": "code",
   "execution_count": 3,
   "id": "d7094fce",
   "metadata": {},
   "outputs": [
    {
     "name": "stdout",
     "output_type": "stream",
     "text": [
      "week 1\n",
      "day 1\n",
      "day 2\n",
      "day 3\n",
      "week 2\n",
      "day 1\n",
      "day 2\n",
      "day 3\n"
     ]
    }
   ],
   "source": [
    "#sample programme\n",
    " \n",
    "for i in range (1,3):\n",
    "    print('week',i)\n",
    "    for j in range(1,4):\n",
    "        print('day',j)\n",
    "\n"
   ]
  },
  {
   "cell_type": "code",
   "execution_count": 3,
   "id": "ba1c90dc",
   "metadata": {},
   "outputs": [
    {
     "name": "stdout",
     "output_type": "stream",
     "text": [
      "20\n",
      "19\n",
      "18\n",
      "17\n",
      "16\n",
      "15\n",
      "14\n",
      "13\n",
      "12\n"
     ]
    }
   ],
   "source": [
    "for i in range (20,11,-1):\n",
    "    print(i)"
   ]
  },
  {
   "cell_type": "code",
   "execution_count": 9,
   "id": "c54071c9",
   "metadata": {},
   "outputs": [
    {
     "name": "stdout",
     "output_type": "stream",
     "text": [
      "4\n",
      "3\n",
      "2\n",
      "1\n"
     ]
    }
   ],
   "source": [
    "for i in reversed (range(1,5)):\n",
    "    print(i)"
   ]
  },
  {
   "cell_type": "code",
   "execution_count": null,
   "id": "1d354e04",
   "metadata": {},
   "outputs": [],
   "source": [
    "##############################################################################################################\n",
    "##############################################################################################################"
   ]
  },
  {
   "cell_type": "code",
   "execution_count": null,
   "id": "cfca7c57",
   "metadata": {},
   "outputs": [],
   "source": [
    "#while loop\n",
    "#1.initialisation\n",
    "#2.condition\n",
    "#3.increment\n",
    "#syntax\n",
    "# while condition:\n",
    "#      statement"
   ]
  },
  {
   "cell_type": "code",
   "execution_count": 2,
   "id": "04fdeace",
   "metadata": {},
   "outputs": [
    {
     "name": "stdout",
     "output_type": "stream",
     "text": [
      "0\n",
      "1\n",
      "2\n",
      "3\n",
      "4\n"
     ]
    }
   ],
   "source": [
    "i=0\n",
    "while i<5:\n",
    "    print(i)\n",
    "    i+=1"
   ]
  },
  {
   "cell_type": "code",
   "execution_count": 20,
   "id": "a517b3ca",
   "metadata": {},
   "outputs": [
    {
     "name": "stdout",
     "output_type": "stream",
     "text": [
      "Teluskorocksrocksrocksrocksrocks\n",
      "Teluskorocksrocksrocksrocksrocks\n",
      "Teluskorocksrocksrocksrocksrocks\n",
      "Teluskorocksrocksrocksrocksrocks\n",
      "Teluskorocksrocksrocksrocksrocks\n"
     ]
    }
   ],
   "source": [
    "i=5\n",
    "\n",
    "\n",
    "while i>=1:\n",
    "    print('Telusko',end =\"\")\n",
    "    j=1\n",
    "    while j<=5:\n",
    "        print('rocks',end =\"\")\n",
    "        j+=1\n",
    "    i-=1\n",
    "    print()"
   ]
  },
  {
   "cell_type": "code",
   "execution_count": 21,
   "id": "d9be3529",
   "metadata": {},
   "outputs": [
    {
     "name": "stdout",
     "output_type": "stream",
     "text": [
      "Teluskorocksrocksrocksrocksrocks\n",
      "Teluskorocksrocksrocksrocksrocks\n",
      "Teluskorocksrocksrocksrocksrocks\n",
      "Teluskorocksrocksrocksrocksrocks\n",
      "Teluskorocksrocksrocksrocksrocks\n"
     ]
    }
   ],
   "source": [
    "i=5\n",
    "\n",
    "\n",
    "while i>=1:\n",
    "    print('Telusko',end =\"\")\n",
    "    j=1\n",
    "    while j<=5:\n",
    "        print('rocks',end =\"\")\n",
    "        j+=1\n",
    "    print()\n",
    "    i-=1\n",
    "   "
   ]
  },
  {
   "cell_type": "code",
   "execution_count": 23,
   "id": "215ecc9c",
   "metadata": {},
   "outputs": [
    {
     "name": "stdout",
     "output_type": "stream",
     "text": [
      "Enter a number: 6\n",
      "6 x 10 = 60\n",
      "6 x 9 = 54\n",
      "6 x 8 = 48\n",
      "6 x 7 = 42\n",
      "6 x 6 = 36\n",
      "6 x 5 = 30\n",
      "6 x 4 = 24\n",
      "6 x 3 = 18\n",
      "6 x 2 = 12\n",
      "6 x 1 = 6\n"
     ]
    }
   ],
   "source": [
    "#printing tables\n",
    "number = int(input(\"Enter a number: \"))\n",
    "\n",
    "count = 10\n",
    "\n",
    "while count >= 1:\n",
    "    product = number * count\n",
    "    print(number, \"x\", count, \"=\", product)\n",
    "    count = count - 1"
   ]
  },
  {
   "cell_type": "code",
   "execution_count": 4,
   "id": "c679067a",
   "metadata": {},
   "outputs": [
    {
     "name": "stdout",
     "output_type": "stream",
     "text": [
      "4\n",
      "8\n",
      "12\n",
      "16\n",
      "20\n",
      "24\n",
      "28\n",
      "32\n",
      "36\n",
      "40\n"
     ]
    }
   ],
   "source": [
    "#simple\n",
    "i=1\n",
    "while i<=10:\n",
    "    n=4\n",
    "    print(n*i)\n",
    "    i+=1"
   ]
  },
  {
   "cell_type": "code",
   "execution_count": 6,
   "id": "ca6749c3",
   "metadata": {},
   "outputs": [
    {
     "name": "stdout",
     "output_type": "stream",
     "text": [
      "10\n",
      "20\n",
      "30\n",
      "40\n"
     ]
    }
   ],
   "source": [
    "#simple just priniting list elemnts with while loop\n",
    "a=[10,20,30,40]\n",
    "\n",
    "i=0\n",
    "\n",
    "while i<len(a):\n",
    "    print(a[i])\n",
    "    i+=1"
   ]
  },
  {
   "cell_type": "code",
   "execution_count": 2,
   "id": "6fe50891",
   "metadata": {},
   "outputs": [
    {
     "name": "stdout",
     "output_type": "stream",
     "text": [
      "enter a number:5\n",
      "15\n"
     ]
    }
   ],
   "source": [
    "#sum of natural numbers\n",
    "\n",
    "n=int(input('enter a number:'))\n",
    "\n",
    "sum=0\n",
    "\n",
    "while n>0:\n",
    "    sum+=n\n",
    "    n-=1\n",
    "print(f'{sum}')"
   ]
  },
  {
   "cell_type": "code",
   "execution_count": null,
   "id": "e222399d",
   "metadata": {},
   "outputs": [],
   "source": [
    "#while else :\n",
    "#syntax\n",
    "#when the while condition becomes false and loops run normally then else block will be executed\n",
    "#while test_condition:\n",
    "     statemnts\n",
    "else:\n",
    "     statements"
   ]
  },
  {
   "cell_type": "code",
   "execution_count": 1,
   "id": "3dc9d9d0",
   "metadata": {},
   "outputs": [
    {
     "name": "stdout",
     "output_type": "stream",
     "text": [
      "finding\n",
      "finding\n",
      "30\n",
      "finding\n",
      "just print\n"
     ]
    }
   ],
   "source": [
    "#While else\n",
    "a=[10,20,30,40]\n",
    "\n",
    "i=0\n",
    "x=30\n",
    "\n",
    "while i<len(a):\n",
    "    if(a[i]==30):\n",
    "        print(a[i])\n",
    "    else:\n",
    "        print('finding')\n",
    "    i+=1\n",
    "else:\n",
    "    print('just print')"
   ]
  },
  {
   "cell_type": "code",
   "execution_count": null,
   "id": "cd83bec5",
   "metadata": {},
   "outputs": [],
   "source": [
    "###############################################################################################################################\n",
    "#############################################################################################################################"
   ]
  },
  {
   "cell_type": "code",
   "execution_count": 1,
   "id": "ef11d0c9",
   "metadata": {},
   "outputs": [
    {
     "name": "stdout",
     "output_type": "stream",
     "text": [
      "come out\n"
     ]
    }
   ],
   "source": [
    "#break - it terminates the loops \n",
    "#syntax\n",
    "while condition:\n",
    "    if True:\n",
    "        break\n",
    "    statement\n",
    "    \n",
    "#if break is executed in nested loop only inner loop is terminated outer loop works\n",
    "i=1\n",
    "while i<5:\n",
    "    break\n",
    "print('come out')"
   ]
  },
  {
   "cell_type": "code",
   "execution_count": 12,
   "id": "23d4891d",
   "metadata": {},
   "outputs": [
    {
     "name": "stdout",
     "output_type": "stream",
     "text": [
      "1\n",
      "2\n",
      "3\n",
      "come outside loop\n"
     ]
    }
   ],
   "source": [
    "#simple \n",
    "i=1\n",
    "\n",
    "while i<=5:\n",
    "    print(i)\n",
    "    if (i==3):\n",
    "        break\n",
    "    i+=1\n",
    "print('come outside loop')"
   ]
  },
  {
   "cell_type": "code",
   "execution_count": null,
   "id": "5e717b4c",
   "metadata": {},
   "outputs": [],
   "source": [
    "############################################################################################################################\n",
    "###########################################################################################################################"
   ]
  },
  {
   "cell_type": "code",
   "execution_count": 3,
   "id": "3b62a5ab",
   "metadata": {},
   "outputs": [
    {
     "name": "stdout",
     "output_type": "stream",
     "text": [
      "0\n",
      "1\n",
      "4\n"
     ]
    }
   ],
   "source": [
    "#continue- skips the cureent iteration further steps and continues with next iteration\n",
    "\n",
    "\n",
    "for i in range(5):\n",
    "    if i==2 or i==3:\n",
    "        continue\n",
    "        print(i)\n",
    "    print(i)"
   ]
  },
  {
   "cell_type": "code",
   "execution_count": 4,
   "id": "76b352ff",
   "metadata": {},
   "outputs": [
    {
     "name": "stdout",
     "output_type": "stream",
     "text": [
      "0\n",
      "1\n",
      "2\n",
      "4\n"
     ]
    }
   ],
   "source": [
    "#simple programm which skips 3\n",
    "i = 0\n",
    "\n",
    "while i < 5:\n",
    "\n",
    "    if i == 3:\n",
    "        i+=1\n",
    "\n",
    "        continue\n",
    "    print(i)\n",
    "    i += 1\n",
    "\n",
    "\n"
   ]
  },
  {
   "cell_type": "code",
   "execution_count": 1,
   "id": "5fa0cf59",
   "metadata": {},
   "outputs": [
    {
     "name": "stdout",
     "output_type": "stream",
     "text": [
      "0\n",
      "1\n",
      "2\n",
      "4\n",
      "5\n"
     ]
    }
   ],
   "source": [
    "#sample programme\n",
    "for x in range(6):\n",
    "    if x==3:\n",
    "        continue\n",
    "    print(x)"
   ]
  }
 ],
 "metadata": {
  "kernelspec": {
   "display_name": "Python 3 (ipykernel)",
   "language": "python",
   "name": "python3"
  },
  "language_info": {
   "codemirror_mode": {
    "name": "ipython",
    "version": 3
   },
   "file_extension": ".py",
   "mimetype": "text/x-python",
   "name": "python",
   "nbconvert_exporter": "python",
   "pygments_lexer": "ipython3",
   "version": "3.9.12"
  }
 },
 "nbformat": 4,
 "nbformat_minor": 5
}
