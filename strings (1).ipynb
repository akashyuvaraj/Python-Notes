{
 "cells": [
  {
   "cell_type": "code",
   "execution_count": 2,
   "id": "89286268",
   "metadata": {},
   "outputs": [
    {
     "name": "stdout",
     "output_type": "stream",
     "text": [
      "string good\n",
      "appl \n",
      " #xuv alto\n",
      "Hello wor\n",
      "ello Wor\n",
      "        akash data\n"
     ]
    }
   ],
   "source": [
    "a='     string good     '     #strip - it removes trailing spaces\n",
    "print(a.strip())\n",
    "\n",
    "c='appl '\n",
    "print(c.strip('l'))         #it also removes character compares string with givin characters \n",
    "                            #after matching with character it stops\n",
    "\n",
    "z=' #xuv alto#'\n",
    "print(z.strip('#'))\n",
    "\n",
    "d= 'Hello world'\n",
    "print(d.strip('ldoh'))\n",
    "\n",
    "e='Hello World'\n",
    "print(e.strip('ldoH'))\n",
    "\n",
    "\n",
    "b='        akash data    '    #rstrip- it removes right empty spaces \n",
    "print(b.rstrip())             #lstrip-it removes left empty spaces "
   ]
  },
  {
   "cell_type": "code",
   "execution_count": 21,
   "id": "c588f537",
   "metadata": {},
   "outputs": [
    {
     "name": "stdout",
     "output_type": "stream",
     "text": [
      "I like mango \n",
      "I like apple \n",
      "I!like!apple \n"
     ]
    }
   ],
   "source": [
    "a='I like apple '                                 #replace \n",
    "print(a.replace('apple','mango'))                 #.string(old,new,count)\n",
    "print(a)\n",
    "\n",
    "\n",
    "print(a.replace(' ','!',2))"
   ]
  },
  {
   "cell_type": "code",
   "execution_count": 19,
   "id": "517f08f4",
   "metadata": {},
   "outputs": [
    {
     "ename": "ValueError",
     "evalue": "substring not found",
     "output_type": "error",
     "traceback": [
      "\u001b[1;31m---------------------------------------------------------------------------\u001b[0m",
      "\u001b[1;31mValueError\u001b[0m                                Traceback (most recent call last)",
      "Input \u001b[1;32mIn [19]\u001b[0m, in \u001b[0;36m<cell line: 2>\u001b[1;34m()\u001b[0m\n\u001b[0;32m      1\u001b[0m a\u001b[38;5;241m=\u001b[39m\u001b[38;5;124m'\u001b[39m\u001b[38;5;124mpyhton is good\u001b[39m\u001b[38;5;124m'\u001b[39m\n\u001b[1;32m----> 2\u001b[0m \u001b[38;5;28mprint\u001b[39m(\u001b[43ma\u001b[49m\u001b[38;5;241;43m.\u001b[39;49m\u001b[43mindex\u001b[49m\u001b[43m(\u001b[49m\u001b[38;5;124;43m'\u001b[39;49m\u001b[38;5;124;43mp\u001b[39;49m\u001b[38;5;124;43m'\u001b[39;49m\u001b[43m,\u001b[49m\u001b[38;5;241;43m1\u001b[39;49m\u001b[43m,\u001b[49m\u001b[38;5;241;43m5\u001b[39;49m\u001b[43m)\u001b[49m)\n",
      "\u001b[1;31mValueError\u001b[0m: substring not found"
     ]
    }
   ],
   "source": [
    "a='pyhton is good'               #index finds the occurence of the substring\n",
    "print(a.index('p',1,5))\n"
   ]
  },
  {
   "cell_type": "code",
   "execution_count": 6,
   "id": "b3f7cff2",
   "metadata": {},
   "outputs": [
    {
     "name": "stdout",
     "output_type": "stream",
     "text": [
      "['akash', 'is', 'good', 'boy']\n",
      "['akash ', 'is good ', 'boy']\n",
      "['akash', ' is', ' good# boy']\n",
      "['akash', ' is# good# boy']\n"
     ]
    }
   ],
   "source": [
    "a='akash is good boy'                   #split()\n",
    "print(a.split())\n",
    "\n",
    "b='akash %is good %boy'\n",
    "print(b.split('%'))\n",
    "\n",
    "a='akash# is# good# boy'              #split-it splits into a list\n",
    "print(a.split('#',maxsplit=2))\n",
    "\n",
    "a='akash# is# good# boy'\n",
    "print(a.split('#',maxsplit=1))"
   ]
  },
  {
   "cell_type": "code",
   "execution_count": 17,
   "id": "259813e2",
   "metadata": {},
   "outputs": [
    {
     "name": "stdout",
     "output_type": "stream",
     "text": [
      "h@e@l@l@o\n",
      "h e l l o\n",
      "Name and Year\n"
     ]
    }
   ],
   "source": [
    "a= ['h','e','l','l','o']         #join used to join elements of an iterable\n",
    "b='@'.join(a)                    #syntax: separator.join(iterable)\n",
    "print(b)\n",
    "\n",
    "\n",
    "\n",
    "c=['h','e','l','l','o']  \n",
    "d=' '.join(c)\n",
    "print(d)\n",
    "\n",
    "\n",
    "e= {'Name':'akash','Year':'2000'}\n",
    "f=' and '.join(e)\n",
    "print(f)\n",
    "\n"
   ]
  },
  {
   "cell_type": "code",
   "execution_count": 9,
   "id": "8ee58699",
   "metadata": {},
   "outputs": [
    {
     "name": "stdout",
     "output_type": "stream",
     "text": [
      "hello world\n",
      "HELLO WORLD\n",
      "Hello world\n"
     ]
    }
   ],
   "source": [
    "a= 'HELLO WORLD'                      #lower\n",
    "print(a.lower())\n",
    "\n",
    "b='hello world'                       #upper\n",
    "print(b.upper())\n",
    "\n",
    "\n",
    "c='hello world'                      #capitalize \n",
    "print(c.capitalize())"
   ]
  },
  {
   "cell_type": "code",
   "execution_count": null,
   "id": "afe1b2b9",
   "metadata": {},
   "outputs": [],
   "source": [
    "##########################################################################################################################\n",
    "###########################################################################################################################"
   ]
  },
  {
   "cell_type": "code",
   "execution_count": 20,
   "id": "209e6992",
   "metadata": {},
   "outputs": [
    {
     "name": "stdout",
     "output_type": "stream",
     "text": [
      "my name is akash and from chennai\n",
      "my name is chennai and from akash\n",
      "my name is akash and from chennai\n",
      "my name is akash and from chennai\n"
     ]
    }
   ],
   "source": [
    "#string format str.format()\n",
    "name =  'akash'\n",
    "city ='chennai'\n",
    "print('my name is {} and from {}'.format(name,city))\n",
    "\n",
    "\n",
    "\n",
    "\n",
    "#string format indexing\n",
    "name =  'akash'\n",
    "city ='chennai'\n",
    "print('my name is {1} and from {0}'.format(name,city))\n",
    "\n",
    "\n",
    "\n",
    "##string format keywords\n",
    "n =  'akash'\n",
    "c ='chennai'\n",
    "print('my name is {name} and from {city}'.format(name=n,city=c))\n",
    "\n",
    "\n",
    "\n",
    "##string format f strings\n",
    "name =  'akash'\n",
    "city ='chennai'\n",
    "print(f'my name is {name} and from {city}')\n"
   ]
  },
  {
   "cell_type": "code",
   "execution_count": 1,
   "id": "52a7f1b0",
   "metadata": {},
   "outputs": [
    {
     "name": "stdout",
     "output_type": "stream",
     "text": [
      "my name is akash and im 2000yaer\n"
     ]
    }
   ],
   "source": [
    "a='akash'\n",
    "b=2000\n",
    "c='my name is {} and im {}yaer'\n",
    "\n",
    "print(c.format(a,b))"
   ]
  },
  {
   "cell_type": "code",
   "execution_count": null,
   "id": "08ffecb6",
   "metadata": {},
   "outputs": [],
   "source": [
    "if we put double curly braces it shows as it is"
   ]
  },
  {
   "cell_type": "code",
   "execution_count": 8,
   "id": "88c0517d",
   "metadata": {},
   "outputs": [
    {
     "name": "stdout",
     "output_type": "stream",
     "text": [
      "my name is akash 7\n"
     ]
    }
   ],
   "source": [
    "a='akash'\n",
    "b=7.6\n",
    "print('my name is %s %d'% (a,b))"
   ]
  }
 ],
 "metadata": {
  "kernelspec": {
   "display_name": "Python 3 (ipykernel)",
   "language": "python",
   "name": "python3"
  },
  "language_info": {
   "codemirror_mode": {
    "name": "ipython",
    "version": 3
   },
   "file_extension": ".py",
   "mimetype": "text/x-python",
   "name": "python",
   "nbconvert_exporter": "python",
   "pygments_lexer": "ipython3",
   "version": "3.9.12"
  }
 },
 "nbformat": 4,
 "nbformat_minor": 5
}
