{
 "cells": [
  {
   "cell_type": "code",
   "execution_count": 6,
   "id": "b9d1e52c",
   "metadata": {},
   "outputs": [
    {
     "name": "stdout",
     "output_type": "stream",
     "text": [
      "hello\n",
      "truee\n"
     ]
    }
   ],
   "source": [
    "#if statement\n",
    "if 3>1:\n",
    "    print('hello')\n",
    "    print('truee')"
   ]
  },
  {
   "cell_type": "code",
   "execution_count": 7,
   "id": "849cdc24",
   "metadata": {},
   "outputs": [
    {
     "name": "stdout",
     "output_type": "stream",
     "text": [
      "enter the runs:100\n",
      "great\n",
      "good form\n"
     ]
    }
   ],
   "source": [
    "runs=int(input('enter the runs:'))\n",
    "if runs==100:\n",
    "    print('great')\n",
    "    print('good form')\n",
    "if runs!=100:\n",
    "    print('very bad')\n",
    "    "
   ]
  },
  {
   "cell_type": "code",
   "execution_count": null,
   "id": "f34b360c",
   "metadata": {},
   "outputs": [],
   "source": [
    "#################################################################################################################"
   ]
  },
  {
   "cell_type": "code",
   "execution_count": 21,
   "id": "4ad5e8be",
   "metadata": {},
   "outputs": [
    {
     "name": "stdout",
     "output_type": "stream",
     "text": [
      "enter the runs:99\n",
      "very bad\n",
      "please improve\n"
     ]
    }
   ],
   "source": [
    "#if else\n",
    "runs=int(input('enter the runs:'))\n",
    "if runs==100:\n",
    "    print('great')\n",
    "    print('good form')\n",
    "else:\n",
    "        print('very bad')\n",
    "        print('please improve')\n",
    "        \n",
    "    "
   ]
  },
  {
   "cell_type": "code",
   "execution_count": 12,
   "id": "efe9a47f",
   "metadata": {},
   "outputs": [],
   "source": [
    "####################################################################################################################"
   ]
  },
  {
   "cell_type": "code",
   "execution_count": null,
   "id": "f7186d13",
   "metadata": {},
   "outputs": [],
   "source": []
  },
  {
   "cell_type": "code",
   "execution_count": 2,
   "id": "6b831726",
   "metadata": {},
   "outputs": [
    {
     "name": "stdout",
     "output_type": "stream",
     "text": [
      "entering the value:0\n",
      "equal to zero\n"
     ]
    }
   ],
   "source": [
    "#nested if else\n",
    "number=float(input('entering the value:'))\n",
    "if number<0:\n",
    "    print('positve')\n",
    "elif number>0:\n",
    "    print('negative')\n",
    "else:\n",
    "     print('equal to zero')"
   ]
  },
  {
   "cell_type": "code",
   "execution_count": 5,
   "id": "4b40fe0b",
   "metadata": {},
   "outputs": [
    {
     "name": "stdout",
     "output_type": "stream",
     "text": [
      "3.9.12 (main, Apr  4 2022, 05:22:27) [MSC v.1916 64 bit (AMD64)]\n"
     ]
    }
   ],
   "source": [
    "import sys\n",
    "print(sys.version)"
   ]
  },
  {
   "cell_type": "code",
   "execution_count": 4,
   "id": "17632907",
   "metadata": {},
   "outputs": [
    {
     "ename": "SyntaxError",
     "evalue": "invalid syntax (1536075312.py, line 4)",
     "output_type": "error",
     "traceback": [
      "\u001b[1;36m  Input \u001b[1;32mIn [4]\u001b[1;36m\u001b[0m\n\u001b[1;33m    match a:\u001b[0m\n\u001b[1;37m          ^\u001b[0m\n\u001b[1;31mSyntaxError\u001b[0m\u001b[1;31m:\u001b[0m invalid syntax\n"
     ]
    }
   ],
   "source": [
    "#Match case statement\n",
    "a='hungry'\n",
    "\n",
    "match a:\n",
    "    case 'hungry':\n",
    "        print('eat food')\n",
    "    case 'thirsty':\n",
    "        print('drink water')\n",
    "    case _:\n",
    "        print('no case match')"
   ]
  },
  {
   "cell_type": "code",
   "execution_count": null,
   "id": "fd2ef518",
   "metadata": {},
   "outputs": [],
   "source": [
    "my_var = 'a'\n",
    "x=10\n",
    "\n",
    "match my_var:  #my_var need to match with a\n",
    "    case 'a':\n",
    "        print('a')\n",
    "    case 'b':\n",
    "        print(b)\n",
    "        \n",
    "        \n",
    "#####################################\n",
    "my_var = 'a'\n",
    "x=10\n",
    "\n",
    "match my_var:  #my_var need to match with a\n",
    "    case 'a'if x>5: #here both conditions need to match \n",
    "        print('a')\n",
    "    case 'b':\n",
    "        print(b)\n",
    "        \n",
    "##########################################\n",
    "my_var = 12\n",
    "x=10\n",
    "\n",
    "match my_var:  #my_var need to match with a\n",
    "    case my_var if my_var>10: #here both conditions need to match \n",
    "        print('a')\n",
    "    case 'b':\n",
    "        print(b)\n",
    "##################################################\n",
    "my_var = 'a'\n",
    "x=10\n",
    "\n",
    "match my_var:  #my_var need to match with a\n",
    "    case 'a' | 'b':#it is like or\n",
    "        print('ab')\n",
    "    case 'b':\n",
    "        print(b)\n",
    "    #############################################\n",
    "my_var = 'c'\n",
    "x=10\n",
    "\n",
    "match my_var:  #my_var need to match with a\n",
    "    case 'a' | 'b':#it is like or\n",
    "        print('ab')\n",
    "    case 'c' as value:\n",
    "        print(value)\n",
    "        "
   ]
  },
  {
   "cell_type": "code",
   "execution_count": null,
   "id": "4bda0c74",
   "metadata": {},
   "outputs": [],
   "source": [
    "my_tuple=(1,2,3)\n",
    "\n",
    "match my_tuple:\n",
    "    case (1,2,3):\n",
    "        print(1)\n",
    "        ##################################\n",
    "my_tuple=(1,'string',3)\n",
    "\n",
    "match my_tuple:\n",
    "    case (var1,var2,var3):\n",
    "        print(var1)"
   ]
  },
  {
   "cell_type": "code",
   "execution_count": null,
   "id": "50547693",
   "metadata": {},
   "outputs": [],
   "source": [
    "#####################################################################################################################"
   ]
  },
  {
   "cell_type": "code",
   "execution_count": 1,
   "id": "559c9dac",
   "metadata": {},
   "outputs": [
    {
     "name": "stdout",
     "output_type": "stream",
     "text": [
      "win\n",
      "loose\n"
     ]
    }
   ],
   "source": [
    "r=8\n",
    "if r!=0:\n",
    "    print(\"win\")\n",
    "    if r==0:\n",
    "        print('won')\n",
    "    else:\n",
    "            print('loose')\n",
    "\n",
    "else:\n",
    "    print('loosing')"
   ]
  },
  {
   "cell_type": "code",
   "execution_count": 2,
   "id": "8028b419",
   "metadata": {},
   "outputs": [
    {
     "name": "stdout",
     "output_type": "stream",
     "text": [
      "enter the number1\n",
      "a\n",
      "final\n"
     ]
    }
   ],
   "source": [
    "num=int(input('enter the number'))\n",
    "if num>0:\n",
    "    print('a')\n",
    "    if 9<0:\n",
    "        print(\"b\")\n",
    "    else:\n",
    "        if 10<0:\n",
    "            print('ok')\n",
    "        else:\n",
    "            print('final')\n",
    "else:\n",
    "    print('good')\n",
    "        "
   ]
  },
  {
   "cell_type": "code",
   "execution_count": null,
   "id": "20c0d2b0",
   "metadata": {},
   "outputs": [],
   "source": [
    "###############################################################################################################\n",
    "#########################################################################################################\n"
   ]
  },
  {
   "cell_type": "code",
   "execution_count": 1,
   "id": "5d6f68c3",
   "metadata": {},
   "outputs": [
    {
     "name": "stdout",
     "output_type": "stream",
     "text": [
      "B\n"
     ]
    }
   ],
   "source": [
    "#short hand if else\n",
    "\n",
    "a=106\n",
    "b=100\n",
    "print('A') if a>b else print('=') if a==b else print('B')"
   ]
  },
  {
   "cell_type": "code",
   "execution_count": 11,
   "id": "626f51cc",
   "metadata": {},
   "outputs": [
    {
     "name": "stdout",
     "output_type": "stream",
     "text": [
      "bye\n"
     ]
    }
   ],
   "source": [
    "a=100\n",
    "b=90\n",
    "print('hi'  if a <b else 'bye')"
   ]
  },
  {
   "cell_type": "code",
   "execution_count": 2,
   "id": "5e0dd78e",
   "metadata": {},
   "outputs": [
    {
     "name": "stdout",
     "output_type": "stream",
     "text": [
      "a is less than b\n"
     ]
    }
   ],
   "source": [
    "a=10\n",
    "b=20\n",
    "\n",
    "print('1st'  if a==b  else  'a is less than b' if a<b else 'a is greater than b')"
   ]
  }
 ],
 "metadata": {
  "kernelspec": {
   "display_name": "Python 3 (ipykernel)",
   "language": "python",
   "name": "python3"
  },
  "language_info": {
   "codemirror_mode": {
    "name": "ipython",
    "version": 3
   },
   "file_extension": ".py",
   "mimetype": "text/x-python",
   "name": "python",
   "nbconvert_exporter": "python",
   "pygments_lexer": "ipython3",
   "version": "3.9.12"
  }
 },
 "nbformat": 4,
 "nbformat_minor": 5
}
